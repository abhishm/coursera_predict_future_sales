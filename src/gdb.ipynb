{
 "cells": [
  {
   "cell_type": "code",
   "execution_count": 1,
   "metadata": {},
   "outputs": [
    {
     "name": "stderr",
     "output_type": "stream",
     "text": [
      "c:\\users\\abhishek\\anaconda3\\lib\\site-packages\\ipykernel_launcher.py:1: UserWarning: Config option `use_jedi` not recognized by `IPCompleter`.\n",
      "  \"\"\"Entry point for launching an IPython kernel.\n"
     ]
    }
   ],
   "source": [
    "%config Completer.use_jedi = False"
   ]
  },
  {
   "cell_type": "code",
   "execution_count": 1,
   "metadata": {},
   "outputs": [],
   "source": [
    "import os\n",
    "import pandas as pd\n",
    "import numpy as np\n",
    "import matplotlib.pyplot as plt\n",
    "import seaborn as sns\n",
    "%matplotlib inline"
   ]
  },
  {
   "cell_type": "code",
   "execution_count": 2,
   "metadata": {},
   "outputs": [],
   "source": [
    "import xgboost"
   ]
  },
  {
   "cell_type": "code",
   "execution_count": 3,
   "metadata": {},
   "outputs": [],
   "source": [
    "plt.style.use('ggplot')"
   ]
  },
  {
   "cell_type": "markdown",
   "metadata": {},
   "source": [
    "#### Data"
   ]
  },
  {
   "cell_type": "code",
   "execution_count": 4,
   "metadata": {},
   "outputs": [],
   "source": [
    "data_folder = \"../data\""
   ]
  },
  {
   "cell_type": "code",
   "execution_count": 5,
   "metadata": {},
   "outputs": [],
   "source": [
    "df_item_categories = pd.read_csv(os.path.join(data_folder, \"item_categories.csv\"))\n",
    "df_items = pd.read_csv(os.path.join(data_folder, \"items.csv\"))\n",
    "df_shops = pd.read_csv(os.path.join(data_folder, \"shops.csv\"))\n",
    "df_sales_train = pd.read_csv(os.path.join(data_folder, \"sales_train_v2.csv\")) \n",
    "df_test = pd.read_csv(os.path.join(data_folder, \"test.csv\"))"
   ]
  },
  {
   "cell_type": "code",
   "execution_count": 6,
   "metadata": {},
   "outputs": [],
   "source": [
    "df_sales_train[\"date\"] = pd.to_datetime(df_sales_train.date, format=\"%d.%m.%Y\")\n",
    "df_sales_train[\"year\"] = df_sales_train.date.dt.year\n",
    "df_sales_train[\"month\"] = df_sales_train.date.dt.month\n",
    "df_sales_train[\"day\"] = df_sales_train.date.dt.day"
   ]
  },
  {
   "cell_type": "markdown",
   "metadata": {},
   "source": [
    "#### Adding features"
   ]
  },
  {
   "cell_type": "code",
   "execution_count": 7,
   "metadata": {},
   "outputs": [],
   "source": [
    "df_sales_train = df_sales_train.merge(df_items[[\"item_id\", \"item_category_id\"]], on=\"item_id\", how=\"left\")"
   ]
  },
  {
   "cell_type": "code",
   "execution_count": 8,
   "metadata": {},
   "outputs": [],
   "source": [
    "df_test = df_test.merge(df_items[[\"item_id\", \"item_category_id\"]], on=\"item_id\", how=\"left\")"
   ]
  },
  {
   "cell_type": "code",
   "execution_count": 9,
   "metadata": {},
   "outputs": [],
   "source": [
    "import calendar\n",
    "def get_weekend(month, year):\n",
    "    days = [calendar.SATURDAY, calendar.SUNDAY]\n",
    "    matrix = calendar.monthcalendar(year, month)\n",
    "    num_days = sum(sum(bool(x[day]) for day in days) for x in matrix)\n",
    "    return num_days"
   ]
  },
  {
   "cell_type": "code",
   "execution_count": 10,
   "metadata": {},
   "outputs": [],
   "source": [
    "from itertools import product\n",
    "years = [2013, 2014, 2015]\n",
    "months = range(1, 13)\n",
    "years, months = list(zip(*product(years, months)))\n",
    "num_weekends = [get_weekend(month, year) for month, year in zip(months, years)] \n",
    "df_num_weekends = pd.DataFrame({\"month\": months, \"year\": years, \"num_weekends\": num_weekends})"
   ]
  },
  {
   "cell_type": "code",
   "execution_count": 11,
   "metadata": {},
   "outputs": [],
   "source": [
    "df_sales_train = df_sales_train.merge(df_num_weekends, on=[\"month\", \"year\"], how=\"left\")"
   ]
  },
  {
   "cell_type": "code",
   "execution_count": 12,
   "metadata": {},
   "outputs": [],
   "source": [
    "df_test[\"num_weekends\"] = get_weekend(11, 2015)"
   ]
  },
  {
   "cell_type": "code",
   "execution_count": 21,
   "metadata": {},
   "outputs": [],
   "source": [
    "df_conversion_rate = pd.read_csv(\"../data/conversion_rates.csv\")"
   ]
  },
  {
   "cell_type": "code",
   "execution_count": 22,
   "metadata": {},
   "outputs": [],
   "source": [
    "df_sales_train = df_sales_train.merge(df_conversion_rate, on=[\"month\", 'year'], how=\"left\")"
   ]
  },
  {
   "cell_type": "code",
   "execution_count": 24,
   "metadata": {},
   "outputs": [],
   "source": [
    "df_test[\"rate\"] =  df_conversion_rate.iloc[34].rate"
   ]
  },
  {
   "cell_type": "code",
   "execution_count": 25,
   "metadata": {},
   "outputs": [],
   "source": [
    "occurance_shop_item = (pd.concat((df_sales_train[[\"shop_id\", \"item_id\"]], df_test[[\"shop_id\", \"item_id\"]]))\n",
    "                       .groupby([\"shop_id\", \"item_id\"])\n",
    "                       .size()\n",
    "                       .apply(np.log1p)\n",
    "                       .reset_index()\n",
    "                       .rename(columns={0: \"occurance\"}))"
   ]
  },
  {
   "cell_type": "code",
   "execution_count": 26,
   "metadata": {},
   "outputs": [],
   "source": [
    "df_sales_train = df_sales_train.merge(occurance_shop_item, on=[\"shop_id\", \"item_id\"], how=\"left\")"
   ]
  },
  {
   "cell_type": "code",
   "execution_count": 27,
   "metadata": {},
   "outputs": [],
   "source": [
    "df_test = df_test.merge(occurance_shop_item, on=[\"shop_id\", \"item_id\"], how=\"left\")"
   ]
  },
  {
   "cell_type": "code",
   "execution_count": 28,
   "metadata": {},
   "outputs": [],
   "source": [
    "df_category_size = (df_items\n",
    "                    .groupby(\"item_category_id\")\n",
    "                    .size()\n",
    "                    .apply(np.log1p)\n",
    "                    .rename(\"category_size\")\n",
    "                    .reset_index())"
   ]
  },
  {
   "cell_type": "code",
   "execution_count": 29,
   "metadata": {},
   "outputs": [],
   "source": [
    "df_sales_train = df_sales_train.merge(df_category_size, on=\"item_category_id\", how=\"left\")"
   ]
  },
  {
   "cell_type": "code",
   "execution_count": 30,
   "metadata": {},
   "outputs": [],
   "source": [
    "df_test = df_test.merge(df_category_size, on=\"item_category_id\", how=\"left\")"
   ]
  },
  {
   "cell_type": "code",
   "execution_count": 31,
   "metadata": {},
   "outputs": [
    {
     "data": {
      "text/html": [
       "<div>\n",
       "<style>\n",
       "    .dataframe thead tr:only-child th {\n",
       "        text-align: right;\n",
       "    }\n",
       "\n",
       "    .dataframe thead th {\n",
       "        text-align: left;\n",
       "    }\n",
       "\n",
       "    .dataframe tbody tr th {\n",
       "        vertical-align: top;\n",
       "    }\n",
       "</style>\n",
       "<table border=\"1\" class=\"dataframe\">\n",
       "  <thead>\n",
       "    <tr style=\"text-align: right;\">\n",
       "      <th></th>\n",
       "      <th>date</th>\n",
       "      <th>date_block_num</th>\n",
       "      <th>shop_id</th>\n",
       "      <th>item_id</th>\n",
       "      <th>item_price</th>\n",
       "      <th>item_cnt_day</th>\n",
       "      <th>year</th>\n",
       "      <th>month</th>\n",
       "      <th>day</th>\n",
       "      <th>item_category_id</th>\n",
       "      <th>num_weekends</th>\n",
       "      <th>rates</th>\n",
       "      <th>rate</th>\n",
       "      <th>occurance</th>\n",
       "      <th>category_size</th>\n",
       "    </tr>\n",
       "  </thead>\n",
       "  <tbody>\n",
       "    <tr>\n",
       "      <th>0</th>\n",
       "      <td>2013-01-02</td>\n",
       "      <td>0</td>\n",
       "      <td>59</td>\n",
       "      <td>22154</td>\n",
       "      <td>999.00</td>\n",
       "      <td>1.0</td>\n",
       "      <td>2013</td>\n",
       "      <td>1</td>\n",
       "      <td>2</td>\n",
       "      <td>37</td>\n",
       "      <td>8</td>\n",
       "      <td>30.2716</td>\n",
       "      <td>30.2716</td>\n",
       "      <td>1.098612</td>\n",
       "      <td>7.484930</td>\n",
       "    </tr>\n",
       "    <tr>\n",
       "      <th>1</th>\n",
       "      <td>2013-01-03</td>\n",
       "      <td>0</td>\n",
       "      <td>25</td>\n",
       "      <td>2552</td>\n",
       "      <td>899.00</td>\n",
       "      <td>1.0</td>\n",
       "      <td>2013</td>\n",
       "      <td>1</td>\n",
       "      <td>3</td>\n",
       "      <td>58</td>\n",
       "      <td>8</td>\n",
       "      <td>30.2716</td>\n",
       "      <td>30.2716</td>\n",
       "      <td>1.098612</td>\n",
       "      <td>6.673298</td>\n",
       "    </tr>\n",
       "    <tr>\n",
       "      <th>2</th>\n",
       "      <td>2013-01-05</td>\n",
       "      <td>0</td>\n",
       "      <td>25</td>\n",
       "      <td>2552</td>\n",
       "      <td>899.00</td>\n",
       "      <td>-1.0</td>\n",
       "      <td>2013</td>\n",
       "      <td>1</td>\n",
       "      <td>5</td>\n",
       "      <td>58</td>\n",
       "      <td>8</td>\n",
       "      <td>30.2716</td>\n",
       "      <td>30.2716</td>\n",
       "      <td>1.098612</td>\n",
       "      <td>6.673298</td>\n",
       "    </tr>\n",
       "    <tr>\n",
       "      <th>3</th>\n",
       "      <td>2013-01-06</td>\n",
       "      <td>0</td>\n",
       "      <td>25</td>\n",
       "      <td>2554</td>\n",
       "      <td>1709.05</td>\n",
       "      <td>1.0</td>\n",
       "      <td>2013</td>\n",
       "      <td>1</td>\n",
       "      <td>6</td>\n",
       "      <td>58</td>\n",
       "      <td>8</td>\n",
       "      <td>30.2716</td>\n",
       "      <td>30.2716</td>\n",
       "      <td>0.693147</td>\n",
       "      <td>6.673298</td>\n",
       "    </tr>\n",
       "    <tr>\n",
       "      <th>4</th>\n",
       "      <td>2013-01-15</td>\n",
       "      <td>0</td>\n",
       "      <td>25</td>\n",
       "      <td>2555</td>\n",
       "      <td>1099.00</td>\n",
       "      <td>1.0</td>\n",
       "      <td>2013</td>\n",
       "      <td>1</td>\n",
       "      <td>15</td>\n",
       "      <td>56</td>\n",
       "      <td>8</td>\n",
       "      <td>30.2716</td>\n",
       "      <td>30.2716</td>\n",
       "      <td>2.397895</td>\n",
       "      <td>5.986452</td>\n",
       "    </tr>\n",
       "  </tbody>\n",
       "</table>\n",
       "</div>"
      ],
      "text/plain": [
       "        date  date_block_num  shop_id  item_id  item_price  item_cnt_day  \\\n",
       "0 2013-01-02               0       59    22154      999.00           1.0   \n",
       "1 2013-01-03               0       25     2552      899.00           1.0   \n",
       "2 2013-01-05               0       25     2552      899.00          -1.0   \n",
       "3 2013-01-06               0       25     2554     1709.05           1.0   \n",
       "4 2013-01-15               0       25     2555     1099.00           1.0   \n",
       "\n",
       "   year  month  day  item_category_id  num_weekends    rates     rate  \\\n",
       "0  2013      1    2                37             8  30.2716  30.2716   \n",
       "1  2013      1    3                58             8  30.2716  30.2716   \n",
       "2  2013      1    5                58             8  30.2716  30.2716   \n",
       "3  2013      1    6                58             8  30.2716  30.2716   \n",
       "4  2013      1   15                56             8  30.2716  30.2716   \n",
       "\n",
       "   occurance  category_size  \n",
       "0   1.098612       7.484930  \n",
       "1   1.098612       6.673298  \n",
       "2   1.098612       6.673298  \n",
       "3   0.693147       6.673298  \n",
       "4   2.397895       5.986452  "
      ]
     },
     "execution_count": 31,
     "metadata": {},
     "output_type": "execute_result"
    }
   ],
   "source": [
    "df_sales_train.head()"
   ]
  },
  {
   "cell_type": "markdown",
   "metadata": {},
   "source": [
    "**Lets not use `item price` for the first model**"
   ]
  },
  {
   "cell_type": "code",
   "execution_count": 32,
   "metadata": {},
   "outputs": [],
   "source": [
    "df_sales_train = df_sales_train.drop([\"date\", \"day\", \"item_price\"], axis=1)"
   ]
  },
  {
   "cell_type": "code",
   "execution_count": 33,
   "metadata": {},
   "outputs": [],
   "source": [
    "df_sales_train = (df_sales_train\n",
    "                  .groupby([\"date_block_num\", \"shop_id\", \"item_id\"])\n",
    "                  .aggregate({\"item_cnt_day\": \"sum\",\n",
    "                              \"year\": \"first\",\n",
    "                              \"month\": \"first\",\n",
    "                              \"item_category_id\": \"first\",\n",
    "                              \"num_weekends\": \"first\",\n",
    "                              \"rate\": \"first\",\n",
    "                              \"occurance\": \"first\",\n",
    "                              \"category_size\": \"first\"})\n",
    "                  .reset_index())"
   ]
  },
  {
   "cell_type": "code",
   "execution_count": 34,
   "metadata": {},
   "outputs": [],
   "source": [
    "df_sales_train = df_sales_train.rename(columns={\"item_cnt_day\": \"item_cnt_month\"})"
   ]
  },
  {
   "cell_type": "code",
   "execution_count": 35,
   "metadata": {},
   "outputs": [],
   "source": [
    "df_sales_train[\"item_cnt_month\"] = df_sales_train.item_cnt_month.clip(0, 20)"
   ]
  },
  {
   "cell_type": "code",
   "execution_count": 36,
   "metadata": {},
   "outputs": [
    {
     "data": {
      "text/plain": [
       "<matplotlib.axes._subplots.AxesSubplot at 0x2d8122d6a0>"
      ]
     },
     "execution_count": 36,
     "metadata": {},
     "output_type": "execute_result"
    },
    {
     "data": {
      "image/png": "[encoded data removed]",
      "text/plain": [
       "<matplotlib.figure.Figure at 0x2d80d385c0>"
      ]
     },
     "metadata": {},
     "output_type": "display_data"
    }
   ],
   "source": [
    "sns.distplot(df_sales_train.item_cnt_month.clip(0, 5))"
   ]
  },
  {
   "cell_type": "code",
   "execution_count": 37,
   "metadata": {},
   "outputs": [],
   "source": [
    "X = df_sales_train.drop(\"item_cnt_month\", axis=1)"
   ]
  },
  {
   "cell_type": "code",
   "execution_count": 38,
   "metadata": {},
   "outputs": [],
   "source": [
    "y = df_sales_train.item_cnt_month"
   ]
  },
  {
   "cell_type": "markdown",
   "metadata": {},
   "source": [
    "### XGBoost model"
   ]
  },
  {
   "cell_type": "code",
   "execution_count": 39,
   "metadata": {},
   "outputs": [],
   "source": [
    "from xgboost import XGBRegressor, plot_importance"
   ]
  },
  {
   "cell_type": "code",
   "execution_count": 40,
   "metadata": {},
   "outputs": [],
   "source": [
    "X_train = X[df_sales_train.date_block_num != 33]\n",
    "y_train = y[df_sales_train.date_block_num != 33]\n",
    "\n",
    "X_test = X[df_sales_train.date_block_num == 33]\n",
    "y_test = y[df_sales_train.date_block_num == 33]"
   ]
  },
  {
   "cell_type": "code",
   "execution_count": 41,
   "metadata": {},
   "outputs": [],
   "source": [
    "model = XGBRegressor(max_depth=8,\n",
    "                     n_estimators=1000,\n",
    "                     min_child_weight=300,\n",
    "                     colsample_bytree=0.9,\n",
    "                     subsample=0.9,\n",
    "                     eta=0.15,\n",
    "                     seed=42)"
   ]
  },
  {
   "cell_type": "code",
   "execution_count": 42,
   "metadata": {},
   "outputs": [
    {
     "name": "stdout",
     "output_type": "stream",
     "text": [
      "[0]\tvalidation_0-rmse:2.84733\tvalidation_1-rmse:2.82351\n",
      "Multiple eval metrics have been passed: 'validation_1-rmse' will be used for early stopping.\n",
      "\n",
      "Will train until validation_1-rmse hasn't improved in 10 rounds.\n",
      "[1]\tvalidation_0-rmse:2.7209\tvalidation_1-rmse:2.73112\n",
      "[2]\tvalidation_0-rmse:2.61312\tvalidation_1-rmse:2.65782\n",
      "[3]\tvalidation_0-rmse:2.52204\tvalidation_1-rmse:2.59578\n",
      "[4]\tvalidation_0-rmse:2.44572\tvalidation_1-rmse:2.54696\n",
      "[5]\tvalidation_0-rmse:2.37994\tvalidation_1-rmse:2.49652\n",
      "[6]\tvalidation_0-rmse:2.32392\tvalidation_1-rmse:2.45267\n",
      "[7]\tvalidation_0-rmse:2.27687\tvalidation_1-rmse:2.4232\n",
      "[8]\tvalidation_0-rmse:2.24231\tvalidation_1-rmse:2.39317\n",
      "[9]\tvalidation_0-rmse:2.20817\tvalidation_1-rmse:2.3736\n",
      "[10]\tvalidation_0-rmse:2.18422\tvalidation_1-rmse:2.3464\n",
      "[11]\tvalidation_0-rmse:2.1586\tvalidation_1-rmse:2.33039\n",
      "[12]\tvalidation_0-rmse:2.13702\tvalidation_1-rmse:2.31447\n",
      "[13]\tvalidation_0-rmse:2.11839\tvalidation_1-rmse:2.30465\n",
      "[14]\tvalidation_0-rmse:2.10241\tvalidation_1-rmse:2.28657\n",
      "[15]\tvalidation_0-rmse:2.08942\tvalidation_1-rmse:2.2747\n",
      "[16]\tvalidation_0-rmse:2.07693\tvalidation_1-rmse:2.26247\n",
      "[17]\tvalidation_0-rmse:2.06661\tvalidation_1-rmse:2.25444\n",
      "[18]\tvalidation_0-rmse:2.05692\tvalidation_1-rmse:2.24149\n",
      "[19]\tvalidation_0-rmse:2.04861\tvalidation_1-rmse:2.23731\n",
      "[20]\tvalidation_0-rmse:2.04145\tvalidation_1-rmse:2.23456\n",
      "[21]\tvalidation_0-rmse:2.03515\tvalidation_1-rmse:2.22844\n",
      "[22]\tvalidation_0-rmse:2.02735\tvalidation_1-rmse:2.22762\n",
      "[23]\tvalidation_0-rmse:2.02227\tvalidation_1-rmse:2.22322\n",
      "[24]\tvalidation_0-rmse:2.01841\tvalidation_1-rmse:2.21823\n",
      "[25]\tvalidation_0-rmse:2.01267\tvalidation_1-rmse:2.2135\n",
      "[26]\tvalidation_0-rmse:2.0081\tvalidation_1-rmse:2.20764\n",
      "[27]\tvalidation_0-rmse:2.00412\tvalidation_1-rmse:2.20702\n",
      "[28]\tvalidation_0-rmse:2.0004\tvalidation_1-rmse:2.20578\n",
      "[29]\tvalidation_0-rmse:1.99747\tvalidation_1-rmse:2.2043\n",
      "[30]\tvalidation_0-rmse:1.99516\tvalidation_1-rmse:2.20006\n",
      "[31]\tvalidation_0-rmse:1.99238\tvalidation_1-rmse:2.19834\n",
      "[32]\tvalidation_0-rmse:1.98946\tvalidation_1-rmse:2.19748\n",
      "[33]\tvalidation_0-rmse:1.98708\tvalidation_1-rmse:2.19397\n",
      "[34]\tvalidation_0-rmse:1.98492\tvalidation_1-rmse:2.19321\n",
      "[35]\tvalidation_0-rmse:1.98332\tvalidation_1-rmse:2.1923\n",
      "[36]\tvalidation_0-rmse:1.98096\tvalidation_1-rmse:2.18962\n",
      "[37]\tvalidation_0-rmse:1.97813\tvalidation_1-rmse:2.18905\n",
      "[38]\tvalidation_0-rmse:1.97467\tvalidation_1-rmse:2.18627\n",
      "[39]\tvalidation_0-rmse:1.97105\tvalidation_1-rmse:2.18547\n",
      "[40]\tvalidation_0-rmse:1.96999\tvalidation_1-rmse:2.18546\n",
      "[41]\tvalidation_0-rmse:1.9682\tvalidation_1-rmse:2.18266\n",
      "[42]\tvalidation_0-rmse:1.96727\tvalidation_1-rmse:2.18015\n",
      "[43]\tvalidation_0-rmse:1.96341\tvalidation_1-rmse:2.18029\n",
      "[44]\tvalidation_0-rmse:1.96239\tvalidation_1-rmse:2.17967\n",
      "[45]\tvalidation_0-rmse:1.95902\tvalidation_1-rmse:2.17759\n",
      "[46]\tvalidation_0-rmse:1.957\tvalidation_1-rmse:2.17391\n",
      "[47]\tvalidation_0-rmse:1.95524\tvalidation_1-rmse:2.174\n",
      "[48]\tvalidation_0-rmse:1.95413\tvalidation_1-rmse:2.1738\n",
      "[49]\tvalidation_0-rmse:1.95284\tvalidation_1-rmse:2.17359\n",
      "[50]\tvalidation_0-rmse:1.95188\tvalidation_1-rmse:2.17325\n",
      "[51]\tvalidation_0-rmse:1.94965\tvalidation_1-rmse:2.17252\n",
      "[52]\tvalidation_0-rmse:1.94876\tvalidation_1-rmse:2.17148\n",
      "[53]\tvalidation_0-rmse:1.94809\tvalidation_1-rmse:2.17112\n",
      "[54]\tvalidation_0-rmse:1.94702\tvalidation_1-rmse:2.17115\n",
      "[55]\tvalidation_0-rmse:1.94545\tvalidation_1-rmse:2.16988\n",
      "[56]\tvalidation_0-rmse:1.94394\tvalidation_1-rmse:2.16958\n",
      "[57]\tvalidation_0-rmse:1.9427\tvalidation_1-rmse:2.16912\n",
      "[58]\tvalidation_0-rmse:1.94088\tvalidation_1-rmse:2.16851\n",
      "[59]\tvalidation_0-rmse:1.93991\tvalidation_1-rmse:2.16766\n",
      "[60]\tvalidation_0-rmse:1.93921\tvalidation_1-rmse:2.16594\n",
      "[61]\tvalidation_0-rmse:1.93732\tvalidation_1-rmse:2.16326\n",
      "[62]\tvalidation_0-rmse:1.93642\tvalidation_1-rmse:2.16315\n",
      "[63]\tvalidation_0-rmse:1.93297\tvalidation_1-rmse:2.16243\n",
      "[64]\tvalidation_0-rmse:1.93206\tvalidation_1-rmse:2.16213\n",
      "[65]\tvalidation_0-rmse:1.93014\tvalidation_1-rmse:2.15926\n",
      "[66]\tvalidation_0-rmse:1.92891\tvalidation_1-rmse:2.15918\n",
      "[67]\tvalidation_0-rmse:1.9274\tvalidation_1-rmse:2.15733\n",
      "[68]\tvalidation_0-rmse:1.92672\tvalidation_1-rmse:2.15636\n",
      "[69]\tvalidation_0-rmse:1.92602\tvalidation_1-rmse:2.15516\n",
      "[70]\tvalidation_0-rmse:1.92537\tvalidation_1-rmse:2.15441\n",
      "[71]\tvalidation_0-rmse:1.92453\tvalidation_1-rmse:2.15435\n",
      "[72]\tvalidation_0-rmse:1.923\tvalidation_1-rmse:2.15449\n",
      "[73]\tvalidation_0-rmse:1.92207\tvalidation_1-rmse:2.15396\n",
      "[74]\tvalidation_0-rmse:1.91921\tvalidation_1-rmse:2.15321\n",
      "[75]\tvalidation_0-rmse:1.91811\tvalidation_1-rmse:2.1527\n",
      "[76]\tvalidation_0-rmse:1.91723\tvalidation_1-rmse:2.15265\n",
      "[77]\tvalidation_0-rmse:1.91593\tvalidation_1-rmse:2.1534\n",
      "[78]\tvalidation_0-rmse:1.91365\tvalidation_1-rmse:2.14915\n",
      "[79]\tvalidation_0-rmse:1.91236\tvalidation_1-rmse:2.14415\n",
      "[80]\tvalidation_0-rmse:1.9111\tvalidation_1-rmse:2.14347\n",
      "[81]\tvalidation_0-rmse:1.91057\tvalidation_1-rmse:2.14268\n",
      "[82]\tvalidation_0-rmse:1.91039\tvalidation_1-rmse:2.14262\n",
      "[83]\tvalidation_0-rmse:1.90745\tvalidation_1-rmse:2.14184\n",
      "[84]\tvalidation_0-rmse:1.90484\tvalidation_1-rmse:2.14099\n",
      "[85]\tvalidation_0-rmse:1.90362\tvalidation_1-rmse:2.13736\n",
      "[86]\tvalidation_0-rmse:1.90114\tvalidation_1-rmse:2.13837\n",
      "[87]\tvalidation_0-rmse:1.8997\tvalidation_1-rmse:2.1365\n",
      "[88]\tvalidation_0-rmse:1.89547\tvalidation_1-rmse:2.13613\n",
      "[89]\tvalidation_0-rmse:1.89429\tvalidation_1-rmse:2.13598\n",
      "[90]\tvalidation_0-rmse:1.89119\tvalidation_1-rmse:2.13517\n",
      "[91]\tvalidation_0-rmse:1.88989\tvalidation_1-rmse:2.13114\n",
      "[92]\tvalidation_0-rmse:1.88905\tvalidation_1-rmse:2.13119\n",
      "[93]\tvalidation_0-rmse:1.88895\tvalidation_1-rmse:2.13113\n",
      "[94]\tvalidation_0-rmse:1.88716\tvalidation_1-rmse:2.13155\n",
      "[95]\tvalidation_0-rmse:1.88627\tvalidation_1-rmse:2.12861\n",
      "[96]\tvalidation_0-rmse:1.88355\tvalidation_1-rmse:2.12843\n",
      "[97]\tvalidation_0-rmse:1.8831\tvalidation_1-rmse:2.12706\n",
      "[98]\tvalidation_0-rmse:1.88274\tvalidation_1-rmse:2.12609\n",
      "[99]\tvalidation_0-rmse:1.88077\tvalidation_1-rmse:2.12569\n",
      "[100]\tvalidation_0-rmse:1.88065\tvalidation_1-rmse:2.12575\n",
      "[101]\tvalidation_0-rmse:1.87916\tvalidation_1-rmse:2.12485\n",
      "[102]\tvalidation_0-rmse:1.87846\tvalidation_1-rmse:2.12465\n",
      "[103]\tvalidation_0-rmse:1.87786\tvalidation_1-rmse:2.12496\n",
      "[104]\tvalidation_0-rmse:1.87757\tvalidation_1-rmse:2.12546\n",
      "[105]\tvalidation_0-rmse:1.87448\tvalidation_1-rmse:2.1255\n",
      "[106]\tvalidation_0-rmse:1.87209\tvalidation_1-rmse:2.12422\n",
      "[107]\tvalidation_0-rmse:1.87201\tvalidation_1-rmse:2.12415\n",
      "[108]\tvalidation_0-rmse:1.86992\tvalidation_1-rmse:2.12463\n",
      "[109]\tvalidation_0-rmse:1.86873\tvalidation_1-rmse:2.12417\n",
      "[110]\tvalidation_0-rmse:1.86863\tvalidation_1-rmse:2.12347\n",
      "[111]\tvalidation_0-rmse:1.86836\tvalidation_1-rmse:2.12277\n",
      "[112]\tvalidation_0-rmse:1.86728\tvalidation_1-rmse:2.12208\n",
      "[113]\tvalidation_0-rmse:1.86639\tvalidation_1-rmse:2.12186\n",
      "[114]\tvalidation_0-rmse:1.86527\tvalidation_1-rmse:2.11493\n",
      "[115]\tvalidation_0-rmse:1.8627\tvalidation_1-rmse:2.11541\n",
      "[116]\tvalidation_0-rmse:1.86113\tvalidation_1-rmse:2.11529\n",
      "[117]\tvalidation_0-rmse:1.86098\tvalidation_1-rmse:2.11528\n",
      "[118]\tvalidation_0-rmse:1.86027\tvalidation_1-rmse:2.11527\n",
      "[119]\tvalidation_0-rmse:1.85807\tvalidation_1-rmse:2.11538\n",
      "[120]\tvalidation_0-rmse:1.85775\tvalidation_1-rmse:2.11561\n",
      "[121]\tvalidation_0-rmse:1.85638\tvalidation_1-rmse:2.1158\n",
      "[122]\tvalidation_0-rmse:1.85503\tvalidation_1-rmse:2.11721\n",
      "[123]\tvalidation_0-rmse:1.85383\tvalidation_1-rmse:2.11709\n",
      "[124]\tvalidation_0-rmse:1.85306\tvalidation_1-rmse:2.117\n",
      "Stopping. Best iteration:\n",
      "[114]\tvalidation_0-rmse:1.86527\tvalidation_1-rmse:2.11493\n",
      "\n"
     ]
    },
    {
     "data": {
      "text/plain": [
       "XGBRegressor(base_score=0.5, booster='gbtree', colsample_bylevel=1,\n",
       "       colsample_bytree=0.9, eta=0.15, gamma=0, learning_rate=0.1,\n",
       "       max_delta_step=0, max_depth=8, min_child_weight=300, missing=None,\n",
       "       n_estimators=1000, n_jobs=1, nthread=None, objective='reg:linear',\n",
       "       random_state=0, reg_alpha=0, reg_lambda=1, scale_pos_weight=1,\n",
       "       seed=42, silent=True, subsample=0.9)"
      ]
     },
     "execution_count": 42,
     "metadata": {},
     "output_type": "execute_result"
    }
   ],
   "source": [
    "model.fit(X_train,\n",
    "          y_train,\n",
    "          eval_metric=\"rmse\",\n",
    "          eval_set=[(X_train, y_train), (X_test, y_test)],\n",
    "          verbose=True,\n",
    "          early_stopping_rounds=10)"
   ]
  },
  {
   "cell_type": "code",
   "execution_count": 43,
   "metadata": {},
   "outputs": [
    {
     "data": {
      "text/plain": [
       "<matplotlib.axes._subplots.AxesSubplot at 0x2d810578d0>"
      ]
     },
     "execution_count": 43,
     "metadata": {},
     "output_type": "execute_result"
    },
    {
     "data": {
      "image/png": "[encoded data removed]",
      "text/plain": [
       "<matplotlib.figure.Figure at 0x2d81256438>"
      ]
     },
     "metadata": {},
     "output_type": "display_data"
    }
   ],
   "source": [
    "plot_importance(model)"
   ]
  },
  {
   "cell_type": "code",
   "execution_count": 44,
   "metadata": {},
   "outputs": [],
   "source": [
    "df_test[\"date_block_num\"] = 34\n",
    "df_test[\"year\"] = 2015\n",
    "df_test[\"month\"] = 11"
   ]
  },
  {
   "cell_type": "code",
   "execution_count": 32,
   "metadata": {},
   "outputs": [
    {
     "data": {
      "text/plain": [
       "33"
      ]
     },
     "execution_count": 32,
     "metadata": {},
     "output_type": "execute_result"
    }
   ],
   "source": [
    "df_sales_train.date_block_num.max()"
   ]
  },
  {
   "cell_type": "code",
   "execution_count": 54,
   "metadata": {},
   "outputs": [],
   "source": [
    "train_shops_items = df_sales_train.groupby([\"shop_id\", \"item_id\"]).indices.keys()"
   ]
  },
  {
   "cell_type": "code",
   "execution_count": 55,
   "metadata": {},
   "outputs": [],
   "source": [
    "df_test[\"present_in_train\"] = df_test.apply(lambda x: (x.shop_id, x.item_id) in train_shops_items, axis=1)"
   ]
  },
  {
   "cell_type": "code",
   "execution_count": 56,
   "metadata": {},
   "outputs": [],
   "source": [
    "y_pred = model.predict(df_test[X_train.columns])"
   ]
  },
  {
   "cell_type": "markdown",
   "metadata": {},
   "source": [
    "**conservative approach** If a item-shop pair not present in the train data, then predict $0$ for it."
   ]
  },
  {
   "cell_type": "code",
   "execution_count": 59,
   "metadata": {},
   "outputs": [],
   "source": [
    "y_pred[~df_test.present_in_train] = 0"
   ]
  },
  {
   "cell_type": "code",
   "execution_count": 60,
   "metadata": {},
   "outputs": [],
   "source": [
    "y_oct_pred = pd.read_csv(\"../data/october_pred.csv\")"
   ]
  },
  {
   "cell_type": "code",
   "execution_count": 61,
   "metadata": {},
   "outputs": [],
   "source": [
    "y_gdb_pred = y_oct_pred[:]"
   ]
  },
  {
   "cell_type": "code",
   "execution_count": 67,
   "metadata": {},
   "outputs": [],
   "source": [
    "y_gdb_pred[\"item_cnt_month\"] = ((y_gdb_pred.item_cnt_month + y_pred) / 2).clip_upper(20)"
   ]
  },
  {
   "cell_type": "code",
   "execution_count": 68,
   "metadata": {},
   "outputs": [],
   "source": [
    "y_gdb_pred.to_csv(\"../data/gdb_plus_prev_month_pred_avg.csv\", index=False)"
   ]
  },
  {
   "cell_type": "code",
   "execution_count": 69,
   "metadata": {},
   "outputs": [
    {
     "data": {
      "text/plain": [
       "20.0"
      ]
     },
     "execution_count": 69,
     "metadata": {},
     "output_type": "execute_result"
    }
   ],
   "source": [
    "y_gdb_pred.item_cnt_month.max()"
   ]
  },
  {
   "cell_type": "code",
   "execution_count": null,
   "metadata": {},
   "outputs": [],
   "source": []
  }
 ],
 "metadata": {
  "kernelspec": {
   "display_name": "Python 3",
   "language": "python",
   "name": "python3"
  },
  "language_info": {
   "codemirror_mode": {
    "name": "ipython",
    "version": 3
   },
   "file_extension": ".py",
   "mimetype": "text/x-python",
   "name": "python",
   "nbconvert_exporter": "python",
   "pygments_lexer": "ipython3",
   "version": "3.6.1"
  }
 },
 "nbformat": 4,
 "nbformat_minor": 2
}
