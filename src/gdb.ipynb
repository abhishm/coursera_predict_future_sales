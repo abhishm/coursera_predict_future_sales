{
 "cells": [
  {
   "cell_type": "code",
   "execution_count": 1,
   "metadata": {},
   "outputs": [],
   "source": [
    "%config Completer.use_jedi = False"
   ]
  },
  {
   "cell_type": "code",
   "execution_count": 2,
   "metadata": {},
   "outputs": [],
   "source": [
    "import os\n",
    "import pandas as pd\n",
    "import numpy as np\n",
    "import matplotlib.pyplot as plt\n",
    "import seaborn as sns\n",
    "%matplotlib inline"
   ]
  },
  {
   "cell_type": "code",
   "execution_count": 3,
   "metadata": {},
   "outputs": [],
   "source": [
    "import xgboost"
   ]
  },
  {
   "cell_type": "code",
   "execution_count": 4,
   "metadata": {},
   "outputs": [],
   "source": [
    "plt.style.use('ggplot')"
   ]
  },
  {
   "cell_type": "markdown",
   "metadata": {},
   "source": [
    "#### Data"
   ]
  },
  {
   "cell_type": "code",
   "execution_count": 5,
   "metadata": {},
   "outputs": [],
   "source": [
    "data_folder = \"../data\""
   ]
  },
  {
   "cell_type": "code",
   "execution_count": 6,
   "metadata": {},
   "outputs": [],
   "source": [
    "df_item_categories = pd.read_csv(os.path.join(data_folder, \"item_categories.csv\"))\n",
    "df_items = pd.read_csv(os.path.join(data_folder, \"items.csv\"))\n",
    "df_shops = pd.read_csv(os.path.join(data_folder, \"shops.csv\"))\n",
    "df_sales_train = pd.read_csv(os.path.join(data_folder, \"sales_train_v2.csv\")) \n",
    "df_test = pd.read_csv(os.path.join(data_folder, \"test.csv\"))"
   ]
  },
  {
   "cell_type": "code",
   "execution_count": 7,
   "metadata": {},
   "outputs": [],
   "source": [
    "df_sales_train[\"date\"] = pd.to_datetime(df_sales_train.date, format=\"%d.%m.%Y\")\n",
    "df_sales_train[\"year\"] = df_sales_train.date.dt.year\n",
    "df_sales_train[\"month\"] = df_sales_train.date.dt.month\n",
    "df_sales_train[\"day\"] = df_sales_train.date.dt.day"
   ]
  },
  {
   "cell_type": "markdown",
   "metadata": {},
   "source": [
    "#### Adding features"
   ]
  },
  {
   "cell_type": "code",
   "execution_count": 8,
   "metadata": {},
   "outputs": [],
   "source": [
    "df_sales_train = df_sales_train.merge(df_items[[\"item_id\", \"item_category_id\"]], on=\"item_id\", how=\"left\")"
   ]
  },
  {
   "cell_type": "code",
   "execution_count": 9,
   "metadata": {},
   "outputs": [],
   "source": [
    "df_test = df_test.merge(df_items[[\"item_id\", \"item_category_id\"]], on=\"item_id\", how=\"left\")"
   ]
  },
  {
   "cell_type": "code",
   "execution_count": 10,
   "metadata": {},
   "outputs": [],
   "source": [
    "import calendar\n",
    "def get_weekend(month, year):\n",
    "    days = [calendar.SATURDAY, calendar.SUNDAY]\n",
    "    matrix = calendar.monthcalendar(year, month)\n",
    "    num_days = sum(sum(bool(x[day]) for day in days) for x in matrix)\n",
    "    return num_days"
   ]
  },
  {
   "cell_type": "code",
   "execution_count": 11,
   "metadata": {},
   "outputs": [],
   "source": [
    "from itertools import product\n",
    "years = [2013, 2014, 2015]\n",
    "months = range(1, 13)\n",
    "years, months = list(zip(*product(years, months)))\n",
    "num_weekends = [get_weekend(month, year) for month, year in zip(months, years)] \n",
    "df_num_weekends = pd.DataFrame({\"month\": months, \"year\": years, \"num_weekends\": num_weekends})"
   ]
  },
  {
   "cell_type": "code",
   "execution_count": 12,
   "metadata": {},
   "outputs": [],
   "source": [
    "df_sales_train = df_sales_train.merge(df_num_weekends, on=[\"month\", \"year\"], how=\"left\")"
   ]
  },
  {
   "cell_type": "code",
   "execution_count": 13,
   "metadata": {},
   "outputs": [],
   "source": [
    "df_test[\"num_weekends\"] = get_weekend(11, 2015)"
   ]
  },
  {
   "cell_type": "code",
   "execution_count": 14,
   "metadata": {},
   "outputs": [],
   "source": [
    "df_conversion_rate = pd.read_csv(\"../data/conversion_rates.csv\")"
   ]
  },
  {
   "cell_type": "code",
   "execution_count": 15,
   "metadata": {},
   "outputs": [],
   "source": [
    "df_sales_train = df_sales_train.merge(df_conversion_rate, on=[\"month\", 'year'], how=\"left\")"
   ]
  },
  {
   "cell_type": "code",
   "execution_count": 16,
   "metadata": {},
   "outputs": [],
   "source": [
    "df_test[\"rate\"] =  df_conversion_rate.iloc[34].rate"
   ]
  },
  {
   "cell_type": "code",
   "execution_count": 17,
   "metadata": {},
   "outputs": [],
   "source": [
    "occurance_shop_item = (pd.concat((df_sales_train[[\"shop_id\", \"item_id\"]], df_test[[\"shop_id\", \"item_id\"]]))\n",
    "                       .groupby([\"shop_id\", \"item_id\"])\n",
    "                       .size()\n",
    "                       .apply(np.log1p)\n",
    "                       .reset_index()\n",
    "                       .rename(columns={0: \"occurance\"}))"
   ]
  },
  {
   "cell_type": "code",
   "execution_count": 18,
   "metadata": {},
   "outputs": [],
   "source": [
    "df_sales_train = df_sales_train.merge(occurance_shop_item, on=[\"shop_id\", \"item_id\"], how=\"left\")"
   ]
  },
  {
   "cell_type": "code",
   "execution_count": 19,
   "metadata": {},
   "outputs": [],
   "source": [
    "df_test = df_test.merge(occurance_shop_item, on=[\"shop_id\", \"item_id\"], how=\"left\")"
   ]
  },
  {
   "cell_type": "code",
   "execution_count": 20,
   "metadata": {},
   "outputs": [],
   "source": [
    "df_category_size = (df_items\n",
    "                    .groupby(\"item_category_id\")\n",
    "                    .size()\n",
    "                    .apply(np.log1p)\n",
    "                    .rename(\"category_size\")\n",
    "                    .reset_index())"
   ]
  },
  {
   "cell_type": "code",
   "execution_count": 21,
   "metadata": {},
   "outputs": [],
   "source": [
    "df_sales_train = df_sales_train.merge(df_category_size, on=\"item_category_id\", how=\"left\")"
   ]
  },
  {
   "cell_type": "code",
   "execution_count": 22,
   "metadata": {},
   "outputs": [],
   "source": [
    "df_test = df_test.merge(df_category_size, on=\"item_category_id\", how=\"left\")"
   ]
  },
  {
   "cell_type": "code",
   "execution_count": 23,
   "metadata": {},
   "outputs": [
    {
     "data": {
      "text/html": [
       "<div>\n",
       "<style>\n",
       "    .dataframe thead tr:only-child th {\n",
       "        text-align: right;\n",
       "    }\n",
       "\n",
       "    .dataframe thead th {\n",
       "        text-align: left;\n",
       "    }\n",
       "\n",
       "    .dataframe tbody tr th {\n",
       "        vertical-align: top;\n",
       "    }\n",
       "</style>\n",
       "<table border=\"1\" class=\"dataframe\">\n",
       "  <thead>\n",
       "    <tr style=\"text-align: right;\">\n",
       "      <th></th>\n",
       "      <th>date</th>\n",
       "      <th>date_block_num</th>\n",
       "      <th>shop_id</th>\n",
       "      <th>item_id</th>\n",
       "      <th>item_price</th>\n",
       "      <th>item_cnt_day</th>\n",
       "      <th>year</th>\n",
       "      <th>month</th>\n",
       "      <th>day</th>\n",
       "      <th>item_category_id</th>\n",
       "      <th>num_weekends</th>\n",
       "      <th>rate</th>\n",
       "      <th>occurance</th>\n",
       "      <th>category_size</th>\n",
       "    </tr>\n",
       "  </thead>\n",
       "  <tbody>\n",
       "    <tr>\n",
       "      <th>0</th>\n",
       "      <td>2013-01-02</td>\n",
       "      <td>0</td>\n",
       "      <td>59</td>\n",
       "      <td>22154</td>\n",
       "      <td>999.00</td>\n",
       "      <td>1.0</td>\n",
       "      <td>2013</td>\n",
       "      <td>1</td>\n",
       "      <td>2</td>\n",
       "      <td>37</td>\n",
       "      <td>8</td>\n",
       "      <td>30.2716</td>\n",
       "      <td>1.098612</td>\n",
       "      <td>7.484930</td>\n",
       "    </tr>\n",
       "    <tr>\n",
       "      <th>1</th>\n",
       "      <td>2013-01-03</td>\n",
       "      <td>0</td>\n",
       "      <td>25</td>\n",
       "      <td>2552</td>\n",
       "      <td>899.00</td>\n",
       "      <td>1.0</td>\n",
       "      <td>2013</td>\n",
       "      <td>1</td>\n",
       "      <td>3</td>\n",
       "      <td>58</td>\n",
       "      <td>8</td>\n",
       "      <td>30.2716</td>\n",
       "      <td>1.098612</td>\n",
       "      <td>6.673298</td>\n",
       "    </tr>\n",
       "    <tr>\n",
       "      <th>2</th>\n",
       "      <td>2013-01-05</td>\n",
       "      <td>0</td>\n",
       "      <td>25</td>\n",
       "      <td>2552</td>\n",
       "      <td>899.00</td>\n",
       "      <td>-1.0</td>\n",
       "      <td>2013</td>\n",
       "      <td>1</td>\n",
       "      <td>5</td>\n",
       "      <td>58</td>\n",
       "      <td>8</td>\n",
       "      <td>30.2716</td>\n",
       "      <td>1.098612</td>\n",
       "      <td>6.673298</td>\n",
       "    </tr>\n",
       "    <tr>\n",
       "      <th>3</th>\n",
       "      <td>2013-01-06</td>\n",
       "      <td>0</td>\n",
       "      <td>25</td>\n",
       "      <td>2554</td>\n",
       "      <td>1709.05</td>\n",
       "      <td>1.0</td>\n",
       "      <td>2013</td>\n",
       "      <td>1</td>\n",
       "      <td>6</td>\n",
       "      <td>58</td>\n",
       "      <td>8</td>\n",
       "      <td>30.2716</td>\n",
       "      <td>0.693147</td>\n",
       "      <td>6.673298</td>\n",
       "    </tr>\n",
       "    <tr>\n",
       "      <th>4</th>\n",
       "      <td>2013-01-15</td>\n",
       "      <td>0</td>\n",
       "      <td>25</td>\n",
       "      <td>2555</td>\n",
       "      <td>1099.00</td>\n",
       "      <td>1.0</td>\n",
       "      <td>2013</td>\n",
       "      <td>1</td>\n",
       "      <td>15</td>\n",
       "      <td>56</td>\n",
       "      <td>8</td>\n",
       "      <td>30.2716</td>\n",
       "      <td>2.397895</td>\n",
       "      <td>5.986452</td>\n",
       "    </tr>\n",
       "  </tbody>\n",
       "</table>\n",
       "</div>"
      ],
      "text/plain": [
       "        date  date_block_num  shop_id  item_id  item_price  item_cnt_day  \\\n",
       "0 2013-01-02               0       59    22154      999.00           1.0   \n",
       "1 2013-01-03               0       25     2552      899.00           1.0   \n",
       "2 2013-01-05               0       25     2552      899.00          -1.0   \n",
       "3 2013-01-06               0       25     2554     1709.05           1.0   \n",
       "4 2013-01-15               0       25     2555     1099.00           1.0   \n",
       "\n",
       "   year  month  day  item_category_id  num_weekends     rate  occurance  \\\n",
       "0  2013      1    2                37             8  30.2716   1.098612   \n",
       "1  2013      1    3                58             8  30.2716   1.098612   \n",
       "2  2013      1    5                58             8  30.2716   1.098612   \n",
       "3  2013      1    6                58             8  30.2716   0.693147   \n",
       "4  2013      1   15                56             8  30.2716   2.397895   \n",
       "\n",
       "   category_size  \n",
       "0       7.484930  \n",
       "1       6.673298  \n",
       "2       6.673298  \n",
       "3       6.673298  \n",
       "4       5.986452  "
      ]
     },
     "execution_count": 23,
     "metadata": {},
     "output_type": "execute_result"
    }
   ],
   "source": [
    "df_sales_train.head()"
   ]
  },
  {
   "cell_type": "markdown",
   "metadata": {},
   "source": [
    "**Lets not use `item price` for the first model**"
   ]
  },
  {
   "cell_type": "code",
   "execution_count": 24,
   "metadata": {},
   "outputs": [],
   "source": [
    "df_sales_train = df_sales_train.drop([\"date\", \"day\", \"item_price\"], axis=1)"
   ]
  },
  {
   "cell_type": "code",
   "execution_count": 25,
   "metadata": {},
   "outputs": [],
   "source": [
    "df_sales_train = (df_sales_train\n",
    "                  .groupby([\"date_block_num\", \"shop_id\", \"item_id\"])\n",
    "                  .aggregate({\"item_cnt_day\": \"sum\",\n",
    "                              \"year\": \"first\",\n",
    "                              \"month\": \"first\",\n",
    "                              \"item_category_id\": \"first\",\n",
    "                              \"num_weekends\": \"first\",\n",
    "                              \"rate\": \"first\",\n",
    "                              \"occurance\": \"first\"})\n",
    "                  .reset_index())"
   ]
  },
  {
   "cell_type": "code",
   "execution_count": 26,
   "metadata": {},
   "outputs": [],
   "source": [
    "df_sales_train = df_sales_train.rename(columns={\"item_cnt_day\": \"item_cnt_month\"})"
   ]
  },
  {
   "cell_type": "code",
   "execution_count": 27,
   "metadata": {},
   "outputs": [],
   "source": [
    "df_sales_train[\"item_cnt_month\"] = df_sales_train.item_cnt_month.clip(0, 20)"
   ]
  },
  {
   "cell_type": "code",
   "execution_count": 28,
   "metadata": {},
   "outputs": [
    {
     "data": {
      "text/plain": [
       "<matplotlib.axes._subplots.AxesSubplot at 0x7f13e5333e48>"
      ]
     },
     "execution_count": 28,
     "metadata": {},
     "output_type": "execute_result"
    },
    {
     "data": {
      "image/png": "[encoded data removed]",
      "text/plain": [
       "<matplotlib.figure.Figure at 0x7f13e5332b00>"
      ]
     },
     "metadata": {},
     "output_type": "display_data"
    }
   ],
   "source": [
    "sns.distplot(df_sales_train.item_cnt_month.clip(0, 5))"
   ]
  },
  {
   "cell_type": "code",
   "execution_count": 39,
   "metadata": {},
   "outputs": [],
   "source": [
    "X = df_sales_train.drop(\"item_cnt_month\", axis=1)"
   ]
  },
  {
   "cell_type": "code",
   "execution_count": 40,
   "metadata": {},
   "outputs": [],
   "source": [
    "y = df_sales_train.item_cnt_month"
   ]
  },
  {
   "cell_type": "markdown",
   "metadata": {},
   "source": [
    "### XGBoost model"
   ]
  },
  {
   "cell_type": "code",
   "execution_count": 41,
   "metadata": {},
   "outputs": [],
   "source": [
    "from xgboost import XGBRegressor, plot_importance"
   ]
  },
  {
   "cell_type": "code",
   "execution_count": 43,
   "metadata": {},
   "outputs": [
    {
     "data": {
      "text/plain": [
       "33"
      ]
     },
     "execution_count": 43,
     "metadata": {},
     "output_type": "execute_result"
    }
   ],
   "source": [
    "df_sales_train.date_block_num.max()"
   ]
  },
  {
   "cell_type": "code",
   "execution_count": 44,
   "metadata": {},
   "outputs": [],
   "source": [
    "X_train = X[df_sales_train.date_block_num != 33]\n",
    "y_train = y[df_sales_train.date_block_num != 33]\n",
    "\n",
    "X_test = X[df_sales_train.date_block_num == 33]\n",
    "y_test = y[df_sales_train.date_block_num == 33]"
   ]
  },
  {
   "cell_type": "code",
   "execution_count": 52,
   "metadata": {},
   "outputs": [],
   "source": [
    "model = XGBRegressor(max_depth=8,\n",
    "                     n_estimators=1000,\n",
    "                     min_child_weight=300,\n",
    "                     colsample_bytree=0.9,\n",
    "                     subsample=0.9,\n",
    "                     eta=0.15,\n",
    "                     seed=42)"
   ]
  },
  {
   "cell_type": "code",
   "execution_count": 53,
   "metadata": {},
   "outputs": [
    {
     "name": "stdout",
     "output_type": "stream",
     "text": [
      "[0]\tvalidation_0-rmse:2.8486\tvalidation_1-rmse:2.82319\n",
      "Multiple eval metrics have been passed: 'validation_1-rmse' will be used for early stopping.\n",
      "\n",
      "Will train until validation_1-rmse hasn't improved in 10 rounds.\n",
      "[1]\tvalidation_0-rmse:2.72453\tvalidation_1-rmse:2.74132\n",
      "[2]\tvalidation_0-rmse:2.61845\tvalidation_1-rmse:2.67137\n",
      "[3]\tvalidation_0-rmse:2.52968\tvalidation_1-rmse:2.61425\n",
      "[4]\tvalidation_0-rmse:2.45326\tvalidation_1-rmse:2.56589\n",
      "[5]\tvalidation_0-rmse:2.39926\tvalidation_1-rmse:2.51133\n",
      "[6]\tvalidation_0-rmse:2.34281\tvalidation_1-rmse:2.47382\n",
      "[7]\tvalidation_0-rmse:2.29431\tvalidation_1-rmse:2.44083\n",
      "[8]\tvalidation_0-rmse:2.25351\tvalidation_1-rmse:2.41612\n",
      "[9]\tvalidation_0-rmse:2.21916\tvalidation_1-rmse:2.39508\n",
      "[10]\tvalidation_0-rmse:2.19039\tvalidation_1-rmse:2.36962\n",
      "[11]\tvalidation_0-rmse:2.16808\tvalidation_1-rmse:2.34565\n",
      "[12]\tvalidation_0-rmse:2.14603\tvalidation_1-rmse:2.32576\n",
      "[13]\tvalidation_0-rmse:2.1276\tvalidation_1-rmse:2.31142\n",
      "[14]\tvalidation_0-rmse:2.11223\tvalidation_1-rmse:2.2965\n",
      "[15]\tvalidation_0-rmse:2.09833\tvalidation_1-rmse:2.27968\n",
      "[16]\tvalidation_0-rmse:2.08636\tvalidation_1-rmse:2.27459\n",
      "[17]\tvalidation_0-rmse:2.07347\tvalidation_1-rmse:2.26861\n",
      "[18]\tvalidation_0-rmse:2.06494\tvalidation_1-rmse:2.2596\n",
      "[19]\tvalidation_0-rmse:2.05514\tvalidation_1-rmse:2.25353\n",
      "[20]\tvalidation_0-rmse:2.04686\tvalidation_1-rmse:2.24216\n",
      "[21]\tvalidation_0-rmse:2.03902\tvalidation_1-rmse:2.22918\n",
      "[22]\tvalidation_0-rmse:2.03334\tvalidation_1-rmse:2.22151\n",
      "[23]\tvalidation_0-rmse:2.02848\tvalidation_1-rmse:2.21262\n",
      "[24]\tvalidation_0-rmse:2.02157\tvalidation_1-rmse:2.21076\n",
      "[25]\tvalidation_0-rmse:2.01702\tvalidation_1-rmse:2.2075\n",
      "[26]\tvalidation_0-rmse:2.01201\tvalidation_1-rmse:2.2019\n",
      "[27]\tvalidation_0-rmse:2.0086\tvalidation_1-rmse:2.20061\n",
      "[28]\tvalidation_0-rmse:2.00566\tvalidation_1-rmse:2.19497\n",
      "[29]\tvalidation_0-rmse:2.00284\tvalidation_1-rmse:2.18933\n",
      "[30]\tvalidation_0-rmse:1.99912\tvalidation_1-rmse:2.186\n",
      "[31]\tvalidation_0-rmse:1.99632\tvalidation_1-rmse:2.18125\n",
      "[32]\tvalidation_0-rmse:1.99284\tvalidation_1-rmse:2.17956\n",
      "[33]\tvalidation_0-rmse:1.98983\tvalidation_1-rmse:2.17871\n",
      "[34]\tvalidation_0-rmse:1.98498\tvalidation_1-rmse:2.1729\n",
      "[35]\tvalidation_0-rmse:1.98303\tvalidation_1-rmse:2.16864\n",
      "[36]\tvalidation_0-rmse:1.979\tvalidation_1-rmse:2.16585\n",
      "[37]\tvalidation_0-rmse:1.9744\tvalidation_1-rmse:2.16071\n",
      "[38]\tvalidation_0-rmse:1.97235\tvalidation_1-rmse:2.15703\n",
      "[39]\tvalidation_0-rmse:1.97036\tvalidation_1-rmse:2.15415\n",
      "[40]\tvalidation_0-rmse:1.96816\tvalidation_1-rmse:2.15461\n",
      "[41]\tvalidation_0-rmse:1.9669\tvalidation_1-rmse:2.15414\n",
      "[42]\tvalidation_0-rmse:1.9659\tvalidation_1-rmse:2.15399\n",
      "[43]\tvalidation_0-rmse:1.96402\tvalidation_1-rmse:2.15371\n",
      "[44]\tvalidation_0-rmse:1.96261\tvalidation_1-rmse:2.14894\n",
      "[45]\tvalidation_0-rmse:1.96104\tvalidation_1-rmse:2.14725\n",
      "[46]\tvalidation_0-rmse:1.95987\tvalidation_1-rmse:2.14533\n",
      "[47]\tvalidation_0-rmse:1.95696\tvalidation_1-rmse:2.14826\n",
      "[48]\tvalidation_0-rmse:1.9548\tvalidation_1-rmse:2.14674\n",
      "[49]\tvalidation_0-rmse:1.95284\tvalidation_1-rmse:2.14555\n",
      "[50]\tvalidation_0-rmse:1.94925\tvalidation_1-rmse:2.1456\n",
      "[51]\tvalidation_0-rmse:1.94826\tvalidation_1-rmse:2.14506\n",
      "[52]\tvalidation_0-rmse:1.94617\tvalidation_1-rmse:2.1455\n",
      "[53]\tvalidation_0-rmse:1.94417\tvalidation_1-rmse:2.14537\n",
      "[54]\tvalidation_0-rmse:1.94323\tvalidation_1-rmse:2.14471\n",
      "[55]\tvalidation_0-rmse:1.93986\tvalidation_1-rmse:2.14233\n",
      "[56]\tvalidation_0-rmse:1.93821\tvalidation_1-rmse:2.13963\n",
      "[57]\tvalidation_0-rmse:1.93617\tvalidation_1-rmse:2.13948\n",
      "[58]\tvalidation_0-rmse:1.93537\tvalidation_1-rmse:2.13875\n",
      "[59]\tvalidation_0-rmse:1.93375\tvalidation_1-rmse:2.13894\n",
      "[60]\tvalidation_0-rmse:1.9334\tvalidation_1-rmse:2.13861\n",
      "[61]\tvalidation_0-rmse:1.93306\tvalidation_1-rmse:2.13738\n",
      "[62]\tvalidation_0-rmse:1.93228\tvalidation_1-rmse:2.13779\n",
      "[63]\tvalidation_0-rmse:1.93163\tvalidation_1-rmse:2.1379\n",
      "[64]\tvalidation_0-rmse:1.93061\tvalidation_1-rmse:2.13809\n",
      "[65]\tvalidation_0-rmse:1.92911\tvalidation_1-rmse:2.13669\n",
      "[66]\tvalidation_0-rmse:1.92885\tvalidation_1-rmse:2.13691\n",
      "[67]\tvalidation_0-rmse:1.92802\tvalidation_1-rmse:2.13678\n",
      "[68]\tvalidation_0-rmse:1.92671\tvalidation_1-rmse:2.13677\n",
      "[69]\tvalidation_0-rmse:1.92438\tvalidation_1-rmse:2.13399\n",
      "[70]\tvalidation_0-rmse:1.9234\tvalidation_1-rmse:2.13366\n",
      "[71]\tvalidation_0-rmse:1.92213\tvalidation_1-rmse:2.13346\n",
      "[72]\tvalidation_0-rmse:1.92124\tvalidation_1-rmse:2.13354\n",
      "[73]\tvalidation_0-rmse:1.92019\tvalidation_1-rmse:2.13258\n",
      "[74]\tvalidation_0-rmse:1.91948\tvalidation_1-rmse:2.13147\n",
      "[75]\tvalidation_0-rmse:1.91818\tvalidation_1-rmse:2.12816\n",
      "[76]\tvalidation_0-rmse:1.91519\tvalidation_1-rmse:2.12731\n",
      "[77]\tvalidation_0-rmse:1.91475\tvalidation_1-rmse:2.1271\n",
      "[78]\tvalidation_0-rmse:1.9129\tvalidation_1-rmse:2.12675\n",
      "[79]\tvalidation_0-rmse:1.91191\tvalidation_1-rmse:2.12663\n",
      "[80]\tvalidation_0-rmse:1.91153\tvalidation_1-rmse:2.12574\n",
      "[81]\tvalidation_0-rmse:1.91068\tvalidation_1-rmse:2.12586\n",
      "[82]\tvalidation_0-rmse:1.91006\tvalidation_1-rmse:2.12385\n",
      "[83]\tvalidation_0-rmse:1.90869\tvalidation_1-rmse:2.12376\n",
      "[84]\tvalidation_0-rmse:1.90688\tvalidation_1-rmse:2.12298\n",
      "[85]\tvalidation_0-rmse:1.90342\tvalidation_1-rmse:2.1222\n",
      "[86]\tvalidation_0-rmse:1.90283\tvalidation_1-rmse:2.12195\n",
      "[87]\tvalidation_0-rmse:1.9009\tvalidation_1-rmse:2.12013\n",
      "[88]\tvalidation_0-rmse:1.9003\tvalidation_1-rmse:2.12028\n",
      "[89]\tvalidation_0-rmse:1.8996\tvalidation_1-rmse:2.12009\n",
      "[90]\tvalidation_0-rmse:1.8988\tvalidation_1-rmse:2.12053\n",
      "[91]\tvalidation_0-rmse:1.89839\tvalidation_1-rmse:2.12014\n",
      "[92]\tvalidation_0-rmse:1.89512\tvalidation_1-rmse:2.11967\n",
      "[93]\tvalidation_0-rmse:1.89314\tvalidation_1-rmse:2.11724\n",
      "[94]\tvalidation_0-rmse:1.89287\tvalidation_1-rmse:2.11718\n",
      "[95]\tvalidation_0-rmse:1.8926\tvalidation_1-rmse:2.11725\n",
      "[96]\tvalidation_0-rmse:1.89235\tvalidation_1-rmse:2.11716\n",
      "[97]\tvalidation_0-rmse:1.89003\tvalidation_1-rmse:2.11799\n",
      "[98]\tvalidation_0-rmse:1.88712\tvalidation_1-rmse:2.11623\n",
      "[99]\tvalidation_0-rmse:1.88514\tvalidation_1-rmse:2.11463\n",
      "[100]\tvalidation_0-rmse:1.88505\tvalidation_1-rmse:2.11455\n",
      "[101]\tvalidation_0-rmse:1.88426\tvalidation_1-rmse:2.11309\n",
      "[102]\tvalidation_0-rmse:1.88358\tvalidation_1-rmse:2.11313\n",
      "[103]\tvalidation_0-rmse:1.88175\tvalidation_1-rmse:2.1134\n",
      "[104]\tvalidation_0-rmse:1.88065\tvalidation_1-rmse:2.11306\n",
      "[105]\tvalidation_0-rmse:1.87989\tvalidation_1-rmse:2.11227\n",
      "[106]\tvalidation_0-rmse:1.87935\tvalidation_1-rmse:2.11184\n",
      "[107]\tvalidation_0-rmse:1.87916\tvalidation_1-rmse:2.11192\n",
      "[108]\tvalidation_0-rmse:1.87831\tvalidation_1-rmse:2.11176\n",
      "[109]\tvalidation_0-rmse:1.87766\tvalidation_1-rmse:2.11224\n",
      "[110]\tvalidation_0-rmse:1.87631\tvalidation_1-rmse:2.11303\n",
      "[111]\tvalidation_0-rmse:1.87505\tvalidation_1-rmse:2.11331\n",
      "[112]\tvalidation_0-rmse:1.87439\tvalidation_1-rmse:2.11351\n",
      "[113]\tvalidation_0-rmse:1.87371\tvalidation_1-rmse:2.11368\n",
      "[114]\tvalidation_0-rmse:1.87332\tvalidation_1-rmse:2.11261\n",
      "[115]\tvalidation_0-rmse:1.87264\tvalidation_1-rmse:2.11235\n",
      "[116]\tvalidation_0-rmse:1.86883\tvalidation_1-rmse:2.11115\n",
      "[117]\tvalidation_0-rmse:1.8679\tvalidation_1-rmse:2.11095\n",
      "[118]\tvalidation_0-rmse:1.86782\tvalidation_1-rmse:2.11094\n",
      "[119]\tvalidation_0-rmse:1.86689\tvalidation_1-rmse:2.1107\n",
      "[120]\tvalidation_0-rmse:1.86619\tvalidation_1-rmse:2.10924\n",
      "[121]\tvalidation_0-rmse:1.86604\tvalidation_1-rmse:2.10921\n",
      "[122]\tvalidation_0-rmse:1.86319\tvalidation_1-rmse:2.10943\n",
      "[123]\tvalidation_0-rmse:1.86226\tvalidation_1-rmse:2.10866\n",
      "[124]\tvalidation_0-rmse:1.86167\tvalidation_1-rmse:2.10861\n",
      "[125]\tvalidation_0-rmse:1.86091\tvalidation_1-rmse:2.10896\n",
      "[126]\tvalidation_0-rmse:1.86032\tvalidation_1-rmse:2.10885\n",
      "[127]\tvalidation_0-rmse:1.85875\tvalidation_1-rmse:2.10892\n",
      "[128]\tvalidation_0-rmse:1.85705\tvalidation_1-rmse:2.10894\n",
      "[129]\tvalidation_0-rmse:1.85583\tvalidation_1-rmse:2.10967\n",
      "[130]\tvalidation_0-rmse:1.85503\tvalidation_1-rmse:2.10902\n",
      "[131]\tvalidation_0-rmse:1.85392\tvalidation_1-rmse:2.10918\n",
      "[132]\tvalidation_0-rmse:1.85347\tvalidation_1-rmse:2.10901\n",
      "[133]\tvalidation_0-rmse:1.85305\tvalidation_1-rmse:2.10852\n",
      "[134]\tvalidation_0-rmse:1.85247\tvalidation_1-rmse:2.10846\n",
      "[135]\tvalidation_0-rmse:1.85168\tvalidation_1-rmse:2.10878\n",
      "[136]\tvalidation_0-rmse:1.85106\tvalidation_1-rmse:2.1088\n",
      "[137]\tvalidation_0-rmse:1.85013\tvalidation_1-rmse:2.10865\n",
      "[138]\tvalidation_0-rmse:1.84975\tvalidation_1-rmse:2.10798\n",
      "[139]\tvalidation_0-rmse:1.84781\tvalidation_1-rmse:2.10752\n",
      "[140]\tvalidation_0-rmse:1.84757\tvalidation_1-rmse:2.10708\n",
      "[141]\tvalidation_0-rmse:1.84718\tvalidation_1-rmse:2.10733\n",
      "[142]\tvalidation_0-rmse:1.84699\tvalidation_1-rmse:2.10734\n",
      "[143]\tvalidation_0-rmse:1.84655\tvalidation_1-rmse:2.10742\n",
      "[144]\tvalidation_0-rmse:1.84627\tvalidation_1-rmse:2.10566\n",
      "[145]\tvalidation_0-rmse:1.84585\tvalidation_1-rmse:2.10479\n",
      "[146]\tvalidation_0-rmse:1.84544\tvalidation_1-rmse:2.10491\n",
      "[147]\tvalidation_0-rmse:1.84446\tvalidation_1-rmse:2.10455\n",
      "[148]\tvalidation_0-rmse:1.84349\tvalidation_1-rmse:2.10471\n",
      "[149]\tvalidation_0-rmse:1.84306\tvalidation_1-rmse:2.10431\n",
      "[150]\tvalidation_0-rmse:1.84267\tvalidation_1-rmse:2.10405\n",
      "[151]\tvalidation_0-rmse:1.84247\tvalidation_1-rmse:2.10222\n",
      "[152]\tvalidation_0-rmse:1.84018\tvalidation_1-rmse:2.10302\n",
      "[153]\tvalidation_0-rmse:1.84014\tvalidation_1-rmse:2.10303\n",
      "[154]\tvalidation_0-rmse:1.83785\tvalidation_1-rmse:2.10331\n",
      "[155]\tvalidation_0-rmse:1.83746\tvalidation_1-rmse:2.10346\n",
      "[156]\tvalidation_0-rmse:1.83696\tvalidation_1-rmse:2.1045\n",
      "[157]\tvalidation_0-rmse:1.8357\tvalidation_1-rmse:2.10457\n",
      "[158]\tvalidation_0-rmse:1.83531\tvalidation_1-rmse:2.10458\n",
      "[159]\tvalidation_0-rmse:1.83516\tvalidation_1-rmse:2.10466\n",
      "[160]\tvalidation_0-rmse:1.83377\tvalidation_1-rmse:2.10485\n",
      "[161]\tvalidation_0-rmse:1.83285\tvalidation_1-rmse:2.10603\n",
      "Stopping. Best iteration:\n",
      "[151]\tvalidation_0-rmse:1.84247\tvalidation_1-rmse:2.10222\n",
      "\n"
     ]
    },
    {
     "data": {
      "text/plain": [
       "XGBRegressor(base_score=0.5, booster='gbtree', colsample_bylevel=1,\n",
       "       colsample_bytree=0.9, eta=0.15, gamma=0, learning_rate=0.1,\n",
       "       max_delta_step=0, max_depth=8, min_child_weight=300, missing=None,\n",
       "       n_estimators=1000, n_jobs=1, nthread=None, objective='reg:linear',\n",
       "       random_state=0, reg_alpha=0, reg_lambda=1, scale_pos_weight=1,\n",
       "       seed=42, silent=True, subsample=0.9)"
      ]
     },
     "execution_count": 53,
     "metadata": {},
     "output_type": "execute_result"
    }
   ],
   "source": [
    "model.fit(X_train,\n",
    "          y_train,\n",
    "          eval_metric=\"rmse\",\n",
    "          eval_set=[(X_train, y_train), (X_test, y_test)],\n",
    "          verbose=True,\n",
    "          early_stopping_rounds=10)"
   ]
  },
  {
   "cell_type": "code",
   "execution_count": 55,
   "metadata": {},
   "outputs": [
    {
     "data": {
      "text/plain": [
       "0.3113797138021567"
      ]
     },
     "execution_count": 55,
     "metadata": {},
     "output_type": "execute_result"
    }
   ],
   "source": [
    "model.score(X_test, y_test)"
   ]
  },
  {
   "cell_type": "code",
   "execution_count": 56,
   "metadata": {},
   "outputs": [
    {
     "data": {
      "text/plain": [
       "<matplotlib.axes._subplots.AxesSubplot at 0x7f13e51e2a58>"
      ]
     },
     "execution_count": 56,
     "metadata": {},
     "output_type": "execute_result"
    },
    {
     "data": {
      "image/png": "[encoded data removed]",
      "text/plain": [
       "<matplotlib.figure.Figure at 0x7f13e5235358>"
      ]
     },
     "metadata": {},
     "output_type": "display_data"
    }
   ],
   "source": [
    "plot_importance(model)"
   ]
  },
  {
   "cell_type": "code",
   "execution_count": null,
   "metadata": {},
   "outputs": [],
   "source": [
    "def xgb_model(x_train, y_train, x_train_val, y_train_val):\n",
    "\n",
    "    model.fit(\n",
    "        x_train,\n",
    "        y_train,\n",
    "        eval_metric=\"rmse\",\n",
    "        eval_set=[(x_train, y_train), (x_train_val, y_train_val)],\n",
    "        verbose=True,\n",
    "        early_stopping_rounds=10)\n",
    "    y_pre = model.predict(x_train)\n",
    "    print('RMSE cliped:', np.sqrt(mean_squared_error(y_train.clip(0., 20.), y_pre.clip(0., 20.))))\n",
    "    plot_importance(model)\n",
    "    pyplot.show()\n",
    "    return model"
   ]
  }
 ],
 "metadata": {
  "kernelspec": {
   "display_name": "Python 3",
   "language": "python",
   "name": "python3"
  },
  "language_info": {
   "codemirror_mode": {
    "name": "ipython",
    "version": 3
   },
   "file_extension": ".py",
   "mimetype": "text/x-python",
   "name": "python",
   "nbconvert_exporter": "python",
   "pygments_lexer": "ipython3",
   "version": "3.5.4"
  }
 },
 "nbformat": 4,
 "nbformat_minor": 2
}
