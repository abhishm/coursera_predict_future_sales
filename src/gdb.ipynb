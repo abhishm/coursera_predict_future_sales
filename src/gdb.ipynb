{
 "cells": [
  {
   "cell_type": "code",
   "execution_count": 1,
   "metadata": {},
   "outputs": [],
   "source": [
    "%config Completer.use_jedi = False"
   ]
  },
  {
   "cell_type": "code",
   "execution_count": 2,
   "metadata": {},
   "outputs": [],
   "source": [
    "import os\n",
    "import pandas as pd\n",
    "import numpy as np\n",
    "import matplotlib.pyplot as plt\n",
    "import seaborn as sns\n",
    "%matplotlib inline"
   ]
  },
  {
   "cell_type": "code",
   "execution_count": 3,
   "metadata": {},
   "outputs": [],
   "source": [
    "import xgboost"
   ]
  },
  {
   "cell_type": "code",
   "execution_count": 4,
   "metadata": {},
   "outputs": [],
   "source": [
    "plt.style.use('ggplot')"
   ]
  },
  {
   "cell_type": "markdown",
   "metadata": {},
   "source": [
    "#### Data"
   ]
  },
  {
   "cell_type": "code",
   "execution_count": 5,
   "metadata": {},
   "outputs": [],
   "source": [
    "data_folder = \"../data\""
   ]
  },
  {
   "cell_type": "code",
   "execution_count": 6,
   "metadata": {},
   "outputs": [],
   "source": [
    "df_item_categories = pd.read_csv(os.path.join(data_folder, \"item_categories.csv\"))\n",
    "df_items = pd.read_csv(os.path.join(data_folder, \"items.csv\"))\n",
    "df_shops = pd.read_csv(os.path.join(data_folder, \"shops.csv\"))\n",
    "df_sales_train = pd.read_csv(os.path.join(data_folder, \"sales_train_v2.csv\")) \n",
    "df_test = pd.read_csv(os.path.join(data_folder, \"test.csv\"))"
   ]
  },
  {
   "cell_type": "code",
   "execution_count": 7,
   "metadata": {},
   "outputs": [],
   "source": [
    "df_sales_train[\"date\"] = pd.to_datetime(df_sales_train.date, format=\"%d.%m.%Y\")\n",
    "df_sales_train[\"year\"] = df_sales_train.date.dt.year\n",
    "df_sales_train[\"month\"] = df_sales_train.date.dt.month\n",
    "df_sales_train[\"day\"] = df_sales_train.date.dt.day"
   ]
  },
  {
   "cell_type": "markdown",
   "metadata": {},
   "source": [
    "#### Adding features"
   ]
  },
  {
   "cell_type": "code",
   "execution_count": 8,
   "metadata": {},
   "outputs": [],
   "source": [
    "df_sales_train = df_sales_train.merge(df_items[[\"item_id\", \"item_category_id\"]], on=\"item_id\", how=\"left\")"
   ]
  },
  {
   "cell_type": "code",
   "execution_count": 9,
   "metadata": {},
   "outputs": [],
   "source": [
    "df_test = df_test.merge(df_items[[\"item_id\", \"item_category_id\"]], on=\"item_id\", how=\"left\")"
   ]
  },
  {
   "cell_type": "code",
   "execution_count": 10,
   "metadata": {},
   "outputs": [],
   "source": [
    "import calendar\n",
    "def get_weekend(month, year):\n",
    "    days = [calendar.SATURDAY, calendar.SUNDAY]\n",
    "    matrix = calendar.monthcalendar(year, month)\n",
    "    num_days = sum(sum(bool(x[day]) for day in days) for x in matrix)\n",
    "    return num_days"
   ]
  },
  {
   "cell_type": "code",
   "execution_count": 11,
   "metadata": {},
   "outputs": [],
   "source": [
    "from itertools import product\n",
    "years = [2013, 2014, 2015]\n",
    "months = range(1, 13)\n",
    "years, months = list(zip(*product(years, months)))\n",
    "num_weekends = [get_weekend(month, year) for month, year in zip(months, years)] \n",
    "df_num_weekends = pd.DataFrame({\"month\": months, \"year\": years, \"num_weekends\": num_weekends})"
   ]
  },
  {
   "cell_type": "code",
   "execution_count": 12,
   "metadata": {},
   "outputs": [],
   "source": [
    "df_sales_train = df_sales_train.merge(df_num_weekends, on=[\"month\", \"year\"], how=\"left\")"
   ]
  },
  {
   "cell_type": "code",
   "execution_count": 13,
   "metadata": {},
   "outputs": [],
   "source": [
    "df_test[\"num_weekends\"] = get_weekend(11, 2015)"
   ]
  },
  {
   "cell_type": "code",
   "execution_count": 14,
   "metadata": {},
   "outputs": [],
   "source": [
    "df_conversion_rate = pd.read_csv(\"../data/conversion_rates.csv\")"
   ]
  },
  {
   "cell_type": "code",
   "execution_count": 15,
   "metadata": {},
   "outputs": [],
   "source": [
    "df_sales_train = df_sales_train.merge(df_conversion_rate, on=[\"month\", 'year'], how=\"left\")"
   ]
  },
  {
   "cell_type": "code",
   "execution_count": 16,
   "metadata": {},
   "outputs": [],
   "source": [
    "df_test[\"rate\"] =  df_conversion_rate.iloc[34].rate"
   ]
  },
  {
   "cell_type": "code",
   "execution_count": 17,
   "metadata": {},
   "outputs": [],
   "source": [
    "occurance_shop_item = (pd.concat((df_sales_train[[\"shop_id\", \"item_id\"]], df_test[[\"shop_id\", \"item_id\"]]))\n",
    "                       .groupby([\"shop_id\", \"item_id\"])\n",
    "                       .size()\n",
    "                       .apply(np.log1p)\n",
    "                       .reset_index()\n",
    "                       .rename(columns={0: \"occurance\"}))"
   ]
  },
  {
   "cell_type": "code",
   "execution_count": 18,
   "metadata": {},
   "outputs": [],
   "source": [
    "df_sales_train = df_sales_train.merge(occurance_shop_item, on=[\"shop_id\", \"item_id\"], how=\"left\")"
   ]
  },
  {
   "cell_type": "code",
   "execution_count": 19,
   "metadata": {},
   "outputs": [],
   "source": [
    "df_test = df_test.merge(occurance_shop_item, on=[\"shop_id\", \"item_id\"], how=\"left\")"
   ]
  },
  {
   "cell_type": "code",
   "execution_count": 20,
   "metadata": {},
   "outputs": [],
   "source": [
    "df_category_size = (df_items\n",
    "                    .groupby(\"item_category_id\")\n",
    "                    .size()\n",
    "                    .apply(np.log1p)\n",
    "                    .rename(\"category_size\")\n",
    "                    .reset_index())"
   ]
  },
  {
   "cell_type": "code",
   "execution_count": 21,
   "metadata": {},
   "outputs": [],
   "source": [
    "df_sales_train = df_sales_train.merge(df_category_size, on=\"item_category_id\", how=\"left\")"
   ]
  },
  {
   "cell_type": "code",
   "execution_count": 22,
   "metadata": {},
   "outputs": [],
   "source": [
    "df_test = df_test.merge(df_category_size, on=\"item_category_id\", how=\"left\")"
   ]
  },
  {
   "cell_type": "code",
   "execution_count": 23,
   "metadata": {},
   "outputs": [
    {
     "data": {
      "text/html": [
       "<div>\n",
       "<style>\n",
       "    .dataframe thead tr:only-child th {\n",
       "        text-align: right;\n",
       "    }\n",
       "\n",
       "    .dataframe thead th {\n",
       "        text-align: left;\n",
       "    }\n",
       "\n",
       "    .dataframe tbody tr th {\n",
       "        vertical-align: top;\n",
       "    }\n",
       "</style>\n",
       "<table border=\"1\" class=\"dataframe\">\n",
       "  <thead>\n",
       "    <tr style=\"text-align: right;\">\n",
       "      <th></th>\n",
       "      <th>date</th>\n",
       "      <th>date_block_num</th>\n",
       "      <th>shop_id</th>\n",
       "      <th>item_id</th>\n",
       "      <th>item_price</th>\n",
       "      <th>item_cnt_day</th>\n",
       "      <th>year</th>\n",
       "      <th>month</th>\n",
       "      <th>day</th>\n",
       "      <th>item_category_id</th>\n",
       "      <th>num_weekends</th>\n",
       "      <th>rate</th>\n",
       "      <th>occurance</th>\n",
       "      <th>category_size</th>\n",
       "    </tr>\n",
       "  </thead>\n",
       "  <tbody>\n",
       "    <tr>\n",
       "      <th>0</th>\n",
       "      <td>2013-01-02</td>\n",
       "      <td>0</td>\n",
       "      <td>59</td>\n",
       "      <td>22154</td>\n",
       "      <td>999.00</td>\n",
       "      <td>1.0</td>\n",
       "      <td>2013</td>\n",
       "      <td>1</td>\n",
       "      <td>2</td>\n",
       "      <td>37</td>\n",
       "      <td>8</td>\n",
       "      <td>30.2716</td>\n",
       "      <td>1.098612</td>\n",
       "      <td>7.484930</td>\n",
       "    </tr>\n",
       "    <tr>\n",
       "      <th>1</th>\n",
       "      <td>2013-01-03</td>\n",
       "      <td>0</td>\n",
       "      <td>25</td>\n",
       "      <td>2552</td>\n",
       "      <td>899.00</td>\n",
       "      <td>1.0</td>\n",
       "      <td>2013</td>\n",
       "      <td>1</td>\n",
       "      <td>3</td>\n",
       "      <td>58</td>\n",
       "      <td>8</td>\n",
       "      <td>30.2716</td>\n",
       "      <td>1.098612</td>\n",
       "      <td>6.673298</td>\n",
       "    </tr>\n",
       "    <tr>\n",
       "      <th>2</th>\n",
       "      <td>2013-01-05</td>\n",
       "      <td>0</td>\n",
       "      <td>25</td>\n",
       "      <td>2552</td>\n",
       "      <td>899.00</td>\n",
       "      <td>-1.0</td>\n",
       "      <td>2013</td>\n",
       "      <td>1</td>\n",
       "      <td>5</td>\n",
       "      <td>58</td>\n",
       "      <td>8</td>\n",
       "      <td>30.2716</td>\n",
       "      <td>1.098612</td>\n",
       "      <td>6.673298</td>\n",
       "    </tr>\n",
       "    <tr>\n",
       "      <th>3</th>\n",
       "      <td>2013-01-06</td>\n",
       "      <td>0</td>\n",
       "      <td>25</td>\n",
       "      <td>2554</td>\n",
       "      <td>1709.05</td>\n",
       "      <td>1.0</td>\n",
       "      <td>2013</td>\n",
       "      <td>1</td>\n",
       "      <td>6</td>\n",
       "      <td>58</td>\n",
       "      <td>8</td>\n",
       "      <td>30.2716</td>\n",
       "      <td>0.693147</td>\n",
       "      <td>6.673298</td>\n",
       "    </tr>\n",
       "    <tr>\n",
       "      <th>4</th>\n",
       "      <td>2013-01-15</td>\n",
       "      <td>0</td>\n",
       "      <td>25</td>\n",
       "      <td>2555</td>\n",
       "      <td>1099.00</td>\n",
       "      <td>1.0</td>\n",
       "      <td>2013</td>\n",
       "      <td>1</td>\n",
       "      <td>15</td>\n",
       "      <td>56</td>\n",
       "      <td>8</td>\n",
       "      <td>30.2716</td>\n",
       "      <td>2.397895</td>\n",
       "      <td>5.986452</td>\n",
       "    </tr>\n",
       "  </tbody>\n",
       "</table>\n",
       "</div>"
      ],
      "text/plain": [
       "        date  date_block_num  shop_id  item_id  item_price  item_cnt_day  \\\n",
       "0 2013-01-02               0       59    22154      999.00           1.0   \n",
       "1 2013-01-03               0       25     2552      899.00           1.0   \n",
       "2 2013-01-05               0       25     2552      899.00          -1.0   \n",
       "3 2013-01-06               0       25     2554     1709.05           1.0   \n",
       "4 2013-01-15               0       25     2555     1099.00           1.0   \n",
       "\n",
       "   year  month  day  item_category_id  num_weekends     rate  occurance  \\\n",
       "0  2013      1    2                37             8  30.2716   1.098612   \n",
       "1  2013      1    3                58             8  30.2716   1.098612   \n",
       "2  2013      1    5                58             8  30.2716   1.098612   \n",
       "3  2013      1    6                58             8  30.2716   0.693147   \n",
       "4  2013      1   15                56             8  30.2716   2.397895   \n",
       "\n",
       "   category_size  \n",
       "0       7.484930  \n",
       "1       6.673298  \n",
       "2       6.673298  \n",
       "3       6.673298  \n",
       "4       5.986452  "
      ]
     },
     "execution_count": 23,
     "metadata": {},
     "output_type": "execute_result"
    }
   ],
   "source": [
    "df_sales_train.head()"
   ]
  },
  {
   "cell_type": "markdown",
   "metadata": {},
   "source": [
    "**Lets not use `item price` for the first model**"
   ]
  },
  {
   "cell_type": "code",
   "execution_count": 24,
   "metadata": {},
   "outputs": [],
   "source": [
    "df_sales_train = df_sales_train.drop([\"date\", \"day\", \"item_price\"], axis=1)"
   ]
  },
  {
   "cell_type": "code",
   "execution_count": 25,
   "metadata": {},
   "outputs": [],
   "source": [
    "df_sales_train = (df_sales_train\n",
    "                  .groupby([\"date_block_num\", \"shop_id\", \"item_id\"])\n",
    "                  .aggregate({\"item_cnt_day\": \"sum\",\n",
    "                              \"year\": \"first\",\n",
    "                              \"month\": \"first\",\n",
    "                              \"item_category_id\": \"first\",\n",
    "                              \"num_weekends\": \"first\",\n",
    "                              \"rate\": \"first\",\n",
    "                              \"occurance\": \"first\",\n",
    "                              \"category_size\": \"first\"})\n",
    "                  .reset_index())"
   ]
  },
  {
   "cell_type": "code",
   "execution_count": 26,
   "metadata": {},
   "outputs": [],
   "source": [
    "df_sales_train = df_sales_train.rename(columns={\"item_cnt_day\": \"item_cnt_month\"})"
   ]
  },
  {
   "cell_type": "code",
   "execution_count": 27,
   "metadata": {},
   "outputs": [],
   "source": [
    "df_sales_train[\"item_cnt_month\"] = df_sales_train.item_cnt_month.clip(0, 20)"
   ]
  },
  {
   "cell_type": "code",
   "execution_count": 28,
   "metadata": {},
   "outputs": [
    {
     "data": {
      "text/plain": [
       "<matplotlib.axes._subplots.AxesSubplot at 0x7f94b725ed30>"
      ]
     },
     "execution_count": 28,
     "metadata": {},
     "output_type": "execute_result"
    },
    {
     "data": {
      "image/png": "[encoded data removed]",
      "text/plain": [
       "<matplotlib.figure.Figure at 0x7f94b725db70>"
      ]
     },
     "metadata": {},
     "output_type": "display_data"
    }
   ],
   "source": [
    "sns.distplot(df_sales_train.item_cnt_month.clip(0, 5))"
   ]
  },
  {
   "cell_type": "code",
   "execution_count": 29,
   "metadata": {},
   "outputs": [],
   "source": [
    "X = df_sales_train.drop(\"item_cnt_month\", axis=1)"
   ]
  },
  {
   "cell_type": "code",
   "execution_count": 30,
   "metadata": {},
   "outputs": [],
   "source": [
    "y = df_sales_train.item_cnt_month"
   ]
  },
  {
   "cell_type": "markdown",
   "metadata": {},
   "source": [
    "### XGBoost model"
   ]
  },
  {
   "cell_type": "code",
   "execution_count": 31,
   "metadata": {},
   "outputs": [],
   "source": [
    "from xgboost import XGBRegressor, plot_importance"
   ]
  },
  {
   "cell_type": "code",
   "execution_count": 32,
   "metadata": {},
   "outputs": [
    {
     "data": {
      "text/plain": [
       "33"
      ]
     },
     "execution_count": 32,
     "metadata": {},
     "output_type": "execute_result"
    }
   ],
   "source": [
    "df_sales_train.date_block_num.max()"
   ]
  },
  {
   "cell_type": "code",
   "execution_count": 33,
   "metadata": {},
   "outputs": [],
   "source": [
    "X_train = X[df_sales_train.date_block_num != 33]\n",
    "y_train = y[df_sales_train.date_block_num != 33]\n",
    "\n",
    "X_test = X[df_sales_train.date_block_num == 33]\n",
    "y_test = y[df_sales_train.date_block_num == 33]"
   ]
  },
  {
   "cell_type": "code",
   "execution_count": 34,
   "metadata": {},
   "outputs": [],
   "source": [
    "model = XGBRegressor(max_depth=8,\n",
    "                     n_estimators=1000,\n",
    "                     min_child_weight=300,\n",
    "                     colsample_bytree=0.9,\n",
    "                     subsample=0.9,\n",
    "                     eta=0.15,\n",
    "                     seed=42)"
   ]
  },
  {
   "cell_type": "code",
   "execution_count": 35,
   "metadata": {},
   "outputs": [
    {
     "name": "stdout",
     "output_type": "stream",
     "text": [
      "[0]\tvalidation_0-rmse:2.8486\tvalidation_1-rmse:2.82319\n",
      "Multiple eval metrics have been passed: 'validation_1-rmse' will be used for early stopping.\n",
      "\n",
      "Will train until validation_1-rmse hasn't improved in 10 rounds.\n",
      "[1]\tvalidation_0-rmse:2.72204\tvalidation_1-rmse:2.73238\n",
      "[2]\tvalidation_0-rmse:2.63847\tvalidation_1-rmse:2.64558\n",
      "[3]\tvalidation_0-rmse:2.54244\tvalidation_1-rmse:2.58521\n",
      "[4]\tvalidation_0-rmse:2.46158\tvalidation_1-rmse:2.53481\n",
      "[5]\tvalidation_0-rmse:2.39251\tvalidation_1-rmse:2.49324\n",
      "[6]\tvalidation_0-rmse:2.335\tvalidation_1-rmse:2.45012\n",
      "[7]\tvalidation_0-rmse:2.28754\tvalidation_1-rmse:2.4216\n",
      "[8]\tvalidation_0-rmse:2.24557\tvalidation_1-rmse:2.39649\n",
      "[9]\tvalidation_0-rmse:2.21764\tvalidation_1-rmse:2.36893\n",
      "[10]\tvalidation_0-rmse:2.18593\tvalidation_1-rmse:2.34266\n",
      "[11]\tvalidation_0-rmse:2.15986\tvalidation_1-rmse:2.32608\n",
      "[12]\tvalidation_0-rmse:2.13748\tvalidation_1-rmse:2.31381\n",
      "[13]\tvalidation_0-rmse:2.11915\tvalidation_1-rmse:2.30423\n",
      "[14]\tvalidation_0-rmse:2.10287\tvalidation_1-rmse:2.28599\n",
      "[15]\tvalidation_0-rmse:2.08968\tvalidation_1-rmse:2.28029\n",
      "[16]\tvalidation_0-rmse:2.07727\tvalidation_1-rmse:2.27435\n",
      "[17]\tvalidation_0-rmse:2.06517\tvalidation_1-rmse:2.26437\n",
      "[18]\tvalidation_0-rmse:2.05642\tvalidation_1-rmse:2.25396\n",
      "[19]\tvalidation_0-rmse:2.04688\tvalidation_1-rmse:2.24588\n",
      "[20]\tvalidation_0-rmse:2.03989\tvalidation_1-rmse:2.23816\n",
      "[21]\tvalidation_0-rmse:2.03333\tvalidation_1-rmse:2.2265\n",
      "[22]\tvalidation_0-rmse:2.02709\tvalidation_1-rmse:2.22418\n",
      "[23]\tvalidation_0-rmse:2.01865\tvalidation_1-rmse:2.21653\n",
      "[24]\tvalidation_0-rmse:2.01462\tvalidation_1-rmse:2.21291\n",
      "[25]\tvalidation_0-rmse:2.00943\tvalidation_1-rmse:2.20636\n",
      "[26]\tvalidation_0-rmse:2.0054\tvalidation_1-rmse:2.20237\n",
      "[27]\tvalidation_0-rmse:2.00135\tvalidation_1-rmse:2.19501\n",
      "[28]\tvalidation_0-rmse:1.99787\tvalidation_1-rmse:2.19358\n",
      "[29]\tvalidation_0-rmse:1.99556\tvalidation_1-rmse:2.19274\n",
      "[30]\tvalidation_0-rmse:1.99287\tvalidation_1-rmse:2.19206\n",
      "[31]\tvalidation_0-rmse:1.98749\tvalidation_1-rmse:2.18716\n",
      "[32]\tvalidation_0-rmse:1.98432\tvalidation_1-rmse:2.18683\n",
      "[33]\tvalidation_0-rmse:1.98169\tvalidation_1-rmse:2.18024\n",
      "[34]\tvalidation_0-rmse:1.97941\tvalidation_1-rmse:2.17755\n",
      "[35]\tvalidation_0-rmse:1.97697\tvalidation_1-rmse:2.17309\n",
      "[36]\tvalidation_0-rmse:1.97193\tvalidation_1-rmse:2.16857\n",
      "[37]\tvalidation_0-rmse:1.9695\tvalidation_1-rmse:2.16807\n",
      "[38]\tvalidation_0-rmse:1.96619\tvalidation_1-rmse:2.16746\n",
      "[39]\tvalidation_0-rmse:1.96375\tvalidation_1-rmse:2.16394\n",
      "[40]\tvalidation_0-rmse:1.96178\tvalidation_1-rmse:2.16072\n",
      "[41]\tvalidation_0-rmse:1.95918\tvalidation_1-rmse:2.16106\n",
      "[42]\tvalidation_0-rmse:1.95723\tvalidation_1-rmse:2.16017\n",
      "[43]\tvalidation_0-rmse:1.95604\tvalidation_1-rmse:2.16013\n",
      "[44]\tvalidation_0-rmse:1.95447\tvalidation_1-rmse:2.15765\n",
      "[45]\tvalidation_0-rmse:1.95322\tvalidation_1-rmse:2.15757\n",
      "[46]\tvalidation_0-rmse:1.9506\tvalidation_1-rmse:2.15805\n",
      "[47]\tvalidation_0-rmse:1.94919\tvalidation_1-rmse:2.15522\n",
      "[48]\tvalidation_0-rmse:1.94808\tvalidation_1-rmse:2.15494\n",
      "[49]\tvalidation_0-rmse:1.94671\tvalidation_1-rmse:2.15314\n",
      "[50]\tvalidation_0-rmse:1.94565\tvalidation_1-rmse:2.15306\n",
      "[51]\tvalidation_0-rmse:1.94425\tvalidation_1-rmse:2.15227\n",
      "[52]\tvalidation_0-rmse:1.94205\tvalidation_1-rmse:2.15335\n",
      "[53]\tvalidation_0-rmse:1.9412\tvalidation_1-rmse:2.15298\n",
      "[54]\tvalidation_0-rmse:1.9399\tvalidation_1-rmse:2.15133\n",
      "[55]\tvalidation_0-rmse:1.93915\tvalidation_1-rmse:2.14984\n",
      "[56]\tvalidation_0-rmse:1.93762\tvalidation_1-rmse:2.15021\n",
      "[57]\tvalidation_0-rmse:1.93569\tvalidation_1-rmse:2.14955\n",
      "[58]\tvalidation_0-rmse:1.93503\tvalidation_1-rmse:2.14781\n",
      "[59]\tvalidation_0-rmse:1.93267\tvalidation_1-rmse:2.1481\n",
      "[60]\tvalidation_0-rmse:1.92947\tvalidation_1-rmse:2.14883\n",
      "[61]\tvalidation_0-rmse:1.9266\tvalidation_1-rmse:2.14767\n",
      "[62]\tvalidation_0-rmse:1.92559\tvalidation_1-rmse:2.14513\n",
      "[63]\tvalidation_0-rmse:1.92408\tvalidation_1-rmse:2.1454\n",
      "[64]\tvalidation_0-rmse:1.92308\tvalidation_1-rmse:2.1457\n",
      "[65]\tvalidation_0-rmse:1.92252\tvalidation_1-rmse:2.14582\n",
      "[66]\tvalidation_0-rmse:1.92108\tvalidation_1-rmse:2.14598\n",
      "[67]\tvalidation_0-rmse:1.92027\tvalidation_1-rmse:2.14536\n",
      "[68]\tvalidation_0-rmse:1.91795\tvalidation_1-rmse:2.145\n",
      "[69]\tvalidation_0-rmse:1.91733\tvalidation_1-rmse:2.14399\n",
      "[70]\tvalidation_0-rmse:1.91636\tvalidation_1-rmse:2.14415\n",
      "[71]\tvalidation_0-rmse:1.91492\tvalidation_1-rmse:2.14407\n",
      "[72]\tvalidation_0-rmse:1.91272\tvalidation_1-rmse:2.14308\n",
      "[73]\tvalidation_0-rmse:1.91167\tvalidation_1-rmse:2.14265\n",
      "[74]\tvalidation_0-rmse:1.90869\tvalidation_1-rmse:2.14113\n",
      "[75]\tvalidation_0-rmse:1.90835\tvalidation_1-rmse:2.14102\n",
      "[76]\tvalidation_0-rmse:1.90699\tvalidation_1-rmse:2.14018\n",
      "[77]\tvalidation_0-rmse:1.90589\tvalidation_1-rmse:2.14032\n",
      "[78]\tvalidation_0-rmse:1.9037\tvalidation_1-rmse:2.14001\n",
      "[79]\tvalidation_0-rmse:1.90311\tvalidation_1-rmse:2.13931\n",
      "[80]\tvalidation_0-rmse:1.9022\tvalidation_1-rmse:2.13921\n",
      "[81]\tvalidation_0-rmse:1.8999\tvalidation_1-rmse:2.1391\n",
      "[82]\tvalidation_0-rmse:1.89975\tvalidation_1-rmse:2.13896\n",
      "[83]\tvalidation_0-rmse:1.89652\tvalidation_1-rmse:2.13869\n",
      "[84]\tvalidation_0-rmse:1.89327\tvalidation_1-rmse:2.13347\n",
      "[85]\tvalidation_0-rmse:1.89154\tvalidation_1-rmse:2.13374\n",
      "[86]\tvalidation_0-rmse:1.88912\tvalidation_1-rmse:2.13147\n",
      "[87]\tvalidation_0-rmse:1.88804\tvalidation_1-rmse:2.13124\n",
      "[88]\tvalidation_0-rmse:1.88768\tvalidation_1-rmse:2.13008\n",
      "[89]\tvalidation_0-rmse:1.88484\tvalidation_1-rmse:2.13112\n",
      "[90]\tvalidation_0-rmse:1.88455\tvalidation_1-rmse:2.13112\n",
      "[91]\tvalidation_0-rmse:1.88199\tvalidation_1-rmse:2.13059\n",
      "[92]\tvalidation_0-rmse:1.88134\tvalidation_1-rmse:2.1302\n",
      "[93]\tvalidation_0-rmse:1.88035\tvalidation_1-rmse:2.13042\n",
      "[94]\tvalidation_0-rmse:1.87939\tvalidation_1-rmse:2.12986\n",
      "[95]\tvalidation_0-rmse:1.87801\tvalidation_1-rmse:2.12409\n",
      "[96]\tvalidation_0-rmse:1.87747\tvalidation_1-rmse:2.12405\n",
      "[97]\tvalidation_0-rmse:1.87691\tvalidation_1-rmse:2.1239\n",
      "[98]\tvalidation_0-rmse:1.87585\tvalidation_1-rmse:2.12427\n",
      "[99]\tvalidation_0-rmse:1.87387\tvalidation_1-rmse:2.12505\n",
      "[100]\tvalidation_0-rmse:1.87326\tvalidation_1-rmse:2.12511\n",
      "[101]\tvalidation_0-rmse:1.87235\tvalidation_1-rmse:2.12385\n",
      "[102]\tvalidation_0-rmse:1.87192\tvalidation_1-rmse:2.12272\n",
      "[103]\tvalidation_0-rmse:1.87101\tvalidation_1-rmse:2.12287\n",
      "[104]\tvalidation_0-rmse:1.87031\tvalidation_1-rmse:2.12371\n",
      "[105]\tvalidation_0-rmse:1.86824\tvalidation_1-rmse:2.12159\n",
      "[106]\tvalidation_0-rmse:1.86762\tvalidation_1-rmse:2.12162\n",
      "[107]\tvalidation_0-rmse:1.86664\tvalidation_1-rmse:2.12202\n",
      "[108]\tvalidation_0-rmse:1.8661\tvalidation_1-rmse:2.12138\n",
      "[109]\tvalidation_0-rmse:1.86545\tvalidation_1-rmse:2.12118\n",
      "[110]\tvalidation_0-rmse:1.86458\tvalidation_1-rmse:2.11966\n",
      "[111]\tvalidation_0-rmse:1.8636\tvalidation_1-rmse:2.11866\n",
      "[112]\tvalidation_0-rmse:1.86303\tvalidation_1-rmse:2.11884\n",
      "[113]\tvalidation_0-rmse:1.86174\tvalidation_1-rmse:2.11883\n",
      "[114]\tvalidation_0-rmse:1.86142\tvalidation_1-rmse:2.11868\n",
      "[115]\tvalidation_0-rmse:1.86082\tvalidation_1-rmse:2.1182\n",
      "[116]\tvalidation_0-rmse:1.86044\tvalidation_1-rmse:2.11817\n",
      "[117]\tvalidation_0-rmse:1.85915\tvalidation_1-rmse:2.11478\n",
      "[118]\tvalidation_0-rmse:1.85863\tvalidation_1-rmse:2.11483\n",
      "[119]\tvalidation_0-rmse:1.85777\tvalidation_1-rmse:2.1149\n",
      "[120]\tvalidation_0-rmse:1.85754\tvalidation_1-rmse:2.11481\n",
      "[121]\tvalidation_0-rmse:1.8565\tvalidation_1-rmse:2.11409\n",
      "[122]\tvalidation_0-rmse:1.85621\tvalidation_1-rmse:2.11388\n",
      "[123]\tvalidation_0-rmse:1.8558\tvalidation_1-rmse:2.11385\n",
      "[124]\tvalidation_0-rmse:1.85526\tvalidation_1-rmse:2.11367\n",
      "[125]\tvalidation_0-rmse:1.85449\tvalidation_1-rmse:2.11319\n",
      "[126]\tvalidation_0-rmse:1.85394\tvalidation_1-rmse:2.11277\n",
      "[127]\tvalidation_0-rmse:1.85333\tvalidation_1-rmse:2.1128\n",
      "[128]\tvalidation_0-rmse:1.85317\tvalidation_1-rmse:2.11281\n",
      "[129]\tvalidation_0-rmse:1.85091\tvalidation_1-rmse:2.11446\n",
      "[130]\tvalidation_0-rmse:1.85004\tvalidation_1-rmse:2.11145\n",
      "[131]\tvalidation_0-rmse:1.84866\tvalidation_1-rmse:2.11245\n",
      "[132]\tvalidation_0-rmse:1.84854\tvalidation_1-rmse:2.11243\n",
      "[133]\tvalidation_0-rmse:1.84633\tvalidation_1-rmse:2.11241\n",
      "[134]\tvalidation_0-rmse:1.8438\tvalidation_1-rmse:2.11259\n",
      "[135]\tvalidation_0-rmse:1.84345\tvalidation_1-rmse:2.11241\n",
      "[136]\tvalidation_0-rmse:1.84163\tvalidation_1-rmse:2.11313\n",
      "[137]\tvalidation_0-rmse:1.84118\tvalidation_1-rmse:2.11215\n",
      "[138]\tvalidation_0-rmse:1.83994\tvalidation_1-rmse:2.11239\n",
      "[139]\tvalidation_0-rmse:1.83894\tvalidation_1-rmse:2.11277\n",
      "[140]\tvalidation_0-rmse:1.83843\tvalidation_1-rmse:2.11274\n",
      "Stopping. Best iteration:\n",
      "[130]\tvalidation_0-rmse:1.85004\tvalidation_1-rmse:2.11145\n",
      "\n"
     ]
    },
    {
     "data": {
      "text/plain": [
       "XGBRegressor(base_score=0.5, booster='gbtree', colsample_bylevel=1,\n",
       "       colsample_bytree=0.9, eta=0.15, gamma=0, learning_rate=0.1,\n",
       "       max_delta_step=0, max_depth=8, min_child_weight=300, missing=None,\n",
       "       n_estimators=1000, n_jobs=1, nthread=None, objective='reg:linear',\n",
       "       random_state=0, reg_alpha=0, reg_lambda=1, scale_pos_weight=1,\n",
       "       seed=42, silent=True, subsample=0.9)"
      ]
     },
     "execution_count": 35,
     "metadata": {},
     "output_type": "execute_result"
    }
   ],
   "source": [
    "model.fit(X_train,\n",
    "          y_train,\n",
    "          eval_metric=\"rmse\",\n",
    "          eval_set=[(X_train, y_train), (X_test, y_test)],\n",
    "          verbose=True,\n",
    "          early_stopping_rounds=10)"
   ]
  },
  {
   "cell_type": "code",
   "execution_count": 36,
   "metadata": {},
   "outputs": [
    {
     "data": {
      "text/plain": [
       "<matplotlib.axes._subplots.AxesSubplot at 0x7f94b7247630>"
      ]
     },
     "execution_count": 36,
     "metadata": {},
     "output_type": "execute_result"
    },
    {
     "data": {
      "image/png": "[encoded data removed]",
      "text/plain": [
       "<matplotlib.figure.Figure at 0x7f94b71e9390>"
      ]
     },
     "metadata": {},
     "output_type": "display_data"
    }
   ],
   "source": [
    "plot_importance(model)"
   ]
  },
  {
   "cell_type": "code",
   "execution_count": 37,
   "metadata": {},
   "outputs": [],
   "source": [
    "df_test[\"date_block_num\"] = 34\n",
    "df_test[\"year\"] = 2015\n",
    "df_test[\"month\"] = 11"
   ]
  },
  {
   "cell_type": "code",
   "execution_count": 40,
   "metadata": {},
   "outputs": [],
   "source": [
    "y_pred = model.predict(df_test[X_train.columns])"
   ]
  },
  {
   "cell_type": "code",
   "execution_count": null,
   "metadata": {},
   "outputs": [],
   "source": [
    "y_oct_pred = "
   ]
  }
 ],
 "metadata": {
  "kernelspec": {
   "display_name": "Python 3",
   "language": "python",
   "name": "python3"
  },
  "language_info": {
   "codemirror_mode": {
    "name": "ipython",
    "version": 3
   },
   "file_extension": ".py",
   "mimetype": "text/x-python",
   "name": "python",
   "nbconvert_exporter": "python",
   "pygments_lexer": "ipython3",
   "version": "3.5.4"
  }
 },
 "nbformat": 4,
 "nbformat_minor": 2
}
